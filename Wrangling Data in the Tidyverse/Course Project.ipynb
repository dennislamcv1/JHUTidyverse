{
 "cells": [
  {
   "cell_type": "markdown",
   "metadata": {},
   "source": [
    "# Course Project"
   ]
  },
  {
   "cell_type": "markdown",
   "metadata": {},
   "source": [
    "***"
   ]
  },
  {
   "cell_type": "markdown",
   "metadata": {},
   "source": [
    "## Project Description"
   ]
  },
  {
   "cell_type": "markdown",
   "metadata": {},
   "source": [
    "The data set has 191,096 rows and 18 columns. First calculate a rough estimate of how much memory the dataset will require in memory before reading into R. Make sure your computer has enough memory (most modern computer should be fine). "
   ]
  },
  {
   "cell_type": "markdown",
   "metadata": {},
   "source": [
    "## Import Libraries"
   ]
  },
  {
   "cell_type": "code",
   "execution_count": 62,
   "metadata": {},
   "outputs": [
    {
     "name": "stderr",
     "output_type": "stream",
     "text": [
      "[nltk_data] Downloading package stopwords to\n",
      "[nltk_data]     C:\\Users\\Dennis\\AppData\\Roaming\\nltk_data...\n",
      "[nltk_data]   Package stopwords is already up-to-date!\n"
     ]
    },
    {
     "data": {
      "application/javascript": [
       "IPython.notebook.set_autosave_interval(60000)"
      ]
     },
     "metadata": {},
     "output_type": "display_data"
    },
    {
     "name": "stdout",
     "output_type": "stream",
     "text": [
      "Autosaving every 60 seconds\n"
     ]
    }
   ],
   "source": [
    "import numpy as np\n",
    "from numpy import count_nonzero\n",
    "from numpy import median\n",
    "from numpy import mean\n",
    "import pandas as pd\n",
    "import matplotlib.pyplot as plt\n",
    "import seaborn as sns\n",
    "import plotly.express as px\n",
    "import random\n",
    "\n",
    "import statsmodels.api as sm\n",
    "import statsmodels.formula.api as smf\n",
    "from statsmodels.formula.api import ols\n",
    "\n",
    "import datetime\n",
    "from datetime import datetime, timedelta\n",
    "\n",
    "import nltk\n",
    "nltk.download('stopwords')\n",
    "from nltk.corpus import stopwords\n",
    "stop = stopwords.words('english')\n",
    "\n",
    "%matplotlib inline\n",
    "#sets the default autosave frequency in seconds\n",
    "%autosave 60 \n",
    "sns.set_style('dark')\n",
    "sns.set(font_scale=1.2)\n",
    "\n",
    "plt.rc('axes', titlesize=9)\n",
    "plt.rc('axes', labelsize=14)\n",
    "plt.rc('xtick', labelsize=12)\n",
    "plt.rc('ytick', labelsize=12)\n",
    "\n",
    "import warnings\n",
    "warnings.filterwarnings('ignore')\n",
    "\n",
    "\n",
    "pd.set_option('display.max_columns',None)\n",
    "#pd.set_option('display.max_rows',None)\n",
    "#pd.set_option('max_colwidth', 5000)\n",
    "pd.set_option('display.width', 1000)\n",
    "pd.set_option('display.float_format','{:.2f}'.format)\n",
    "\n",
    "random.seed(0)\n",
    "np.random.seed(0)\n",
    "np.set_printoptions(suppress=True)"
   ]
  },
  {
   "cell_type": "markdown",
   "metadata": {},
   "source": [
    "## Exploratory Data Analysis"
   ]
  },
  {
   "cell_type": "code",
   "execution_count": 63,
   "metadata": {},
   "outputs": [],
   "source": [
    "df = pd.read_csv(\"data_complaints.csv\",parse_dates=['Date received','Date sent to company'])"
   ]
  },
  {
   "cell_type": "code",
   "execution_count": 64,
   "metadata": {},
   "outputs": [
    {
     "data": {
      "text/html": [
       "<div>\n",
       "<style scoped>\n",
       "    .dataframe tbody tr th:only-of-type {\n",
       "        vertical-align: middle;\n",
       "    }\n",
       "\n",
       "    .dataframe tbody tr th {\n",
       "        vertical-align: top;\n",
       "    }\n",
       "\n",
       "    .dataframe thead th {\n",
       "        text-align: right;\n",
       "    }\n",
       "</style>\n",
       "<table border=\"1\" class=\"dataframe\">\n",
       "  <thead>\n",
       "    <tr style=\"text-align: right;\">\n",
       "      <th></th>\n",
       "      <th>Date received</th>\n",
       "      <th>Product</th>\n",
       "      <th>Sub-product</th>\n",
       "      <th>Issue</th>\n",
       "      <th>Sub-issue</th>\n",
       "      <th>Consumer complaint narrative</th>\n",
       "      <th>Company public response</th>\n",
       "      <th>Company</th>\n",
       "      <th>State</th>\n",
       "      <th>ZIP code</th>\n",
       "      <th>Tags</th>\n",
       "      <th>Consumer consent provided?</th>\n",
       "      <th>Submitted via</th>\n",
       "      <th>Date sent to company</th>\n",
       "      <th>Company response to consumer</th>\n",
       "      <th>Timely response?</th>\n",
       "      <th>Consumer disputed?</th>\n",
       "      <th>Complaint ID</th>\n",
       "    </tr>\n",
       "  </thead>\n",
       "  <tbody>\n",
       "    <tr>\n",
       "      <th>0</th>\n",
       "      <td>2018-04-19</td>\n",
       "      <td>Credit card or prepaid card</td>\n",
       "      <td>General-purpose credit card or charge card</td>\n",
       "      <td>Closing your account</td>\n",
       "      <td>Can't close your account</td>\n",
       "      <td>NaN</td>\n",
       "      <td>Company has responded to the consumer and the CFPB and chooses not to provide a public response</td>\n",
       "      <td>CITIBANK, N.A.</td>\n",
       "      <td>AL</td>\n",
       "      <td>361XX</td>\n",
       "      <td>None</td>\n",
       "      <td>Consent not provided</td>\n",
       "      <td>Web</td>\n",
       "      <td>2018-04-19</td>\n",
       "      <td>Closed with explanation</td>\n",
       "      <td>Yes</td>\n",
       "      <td>NaN</td>\n",
       "      <td>2880655</td>\n",
       "    </tr>\n",
       "    <tr>\n",
       "      <th>1</th>\n",
       "      <td>2019-02-12</td>\n",
       "      <td>Credit card or prepaid card</td>\n",
       "      <td>General-purpose credit card or charge card</td>\n",
       "      <td>Problem with a purchase shown on your statement</td>\n",
       "      <td>Credit card company isn't resolving a dispute about a purchase on your statement</td>\n",
       "      <td>I initially in writing to Chase Bank in late XXXX about a charge that was unauthorized on XXXX from XXXX in the amount of {$790.00} after many letters and complaints they still did not do anything yet in XXXX they closed my original account and reissued a new account and sent me a letter indicating they moved this charge to fraud and it would be immediately credited however they have failed to do that and almost 8 months later it is still on my statement and I'm getting charged interest. Even after this I still use my card and PAY for my charges and have never been late however I will not pay for a charge I didn't make and refuse and Chase refuses to do anything even after many attempts and letters they write stating so. I feel this is last step before I begin a case in XXXX XXXX XXXX XXXX against them</td>\n",
       "      <td>None</td>\n",
       "      <td>JPMORGAN CHASE &amp; CO.</td>\n",
       "      <td>CT</td>\n",
       "      <td>064XX</td>\n",
       "      <td>None</td>\n",
       "      <td>Consent provided</td>\n",
       "      <td>Web</td>\n",
       "      <td>2019-02-12</td>\n",
       "      <td>Closed with monetary relief</td>\n",
       "      <td>Yes</td>\n",
       "      <td>NaN</td>\n",
       "      <td>3149693</td>\n",
       "    </tr>\n",
       "    <tr>\n",
       "      <th>2</th>\n",
       "      <td>2018-04-12</td>\n",
       "      <td>Mortgage</td>\n",
       "      <td>Conventional home mortgage</td>\n",
       "      <td>Incorrect information on your report</td>\n",
       "      <td>None</td>\n",
       "      <td>My ex husband and myself had a mobile home ( Home Mortgage ) with XXXX XXXX back in XX/XX/XXXX. I went through a horrible divorce as my husband was using drugs and failing to pay the bills which led to my having to divorce him. The Mortgage was in both of our names. We only had the Mortgage for one year and they got the trailer bc of being unable to pay debt. I was not working at the time as I had just given birth to my first child in XX/XX/XXXX ( she is now XXXX of age ) as this happened years ago. \\n\\nNow after 21 years, XXXX XXXX XXXX XXXX  filled a XXXX XXXX to the IRS and the IRS alerted me which caused me an adverse affect on my IRS taxes. \\nI received a l letter from the IRS XX/XX/XXXX which stated that due to DITECH Mortgage sending a XXXX with taxable income of {$17000.00}, this could cause me to have to owe the IRS {$2900.00}. IRS Told me to contact DITECH Financial to dispute this and request that DITECH Mortgage rescind the XXXX in order ( so it is not XXXX, XXXX taxabl...</td>\n",
       "      <td>Company believes complaint is the result of an isolated error</td>\n",
       "      <td>Ditech Financial LLC</td>\n",
       "      <td>GA</td>\n",
       "      <td>None</td>\n",
       "      <td>None</td>\n",
       "      <td>Consent provided</td>\n",
       "      <td>Web</td>\n",
       "      <td>2018-04-12</td>\n",
       "      <td>Closed with explanation</td>\n",
       "      <td>Yes</td>\n",
       "      <td>NaN</td>\n",
       "      <td>2873888</td>\n",
       "    </tr>\n",
       "    <tr>\n",
       "      <th>3</th>\n",
       "      <td>2018-04-18</td>\n",
       "      <td>Student loan</td>\n",
       "      <td>Federal student loan servicing</td>\n",
       "      <td>Struggling to repay your loan</td>\n",
       "      <td>Problem lowering your monthly payments</td>\n",
       "      <td>I was a student at XXXX XXXX from XX/XX/XXXX-XX/XX/XXXX. I accumulated XXXX of debt in student loans. This school flat out lied to me. I was under the assumption it would have been less than half of that since I had a lot of credits that transferred, not to mention this school promised me job placement, which they did not! They told me I would be making a lot more than what I do. They gave me false information. The only thing this school did for me is put me in tons of debt and lied to me. I am a single mother of XXXX  and was so excited to get my degree. Until I graduated and realize how much they lied to me. The school is now shut down. Can I get these loans forgiven due to being lied to and given false information that basically pressured me into enrolling. If I would have known that my student loans would have been this high. I would have just stayed at the XXXX college where I did my prerequisites. I feel like I fool that XXXX had done this to me.</td>\n",
       "      <td>None</td>\n",
       "      <td>Navient Solutions, LLC.</td>\n",
       "      <td>IN</td>\n",
       "      <td>463XX</td>\n",
       "      <td>None</td>\n",
       "      <td>Consent provided</td>\n",
       "      <td>Web</td>\n",
       "      <td>2018-04-18</td>\n",
       "      <td>Closed with explanation</td>\n",
       "      <td>Yes</td>\n",
       "      <td>NaN</td>\n",
       "      <td>2879448</td>\n",
       "    </tr>\n",
       "    <tr>\n",
       "      <th>4</th>\n",
       "      <td>2018-04-28</td>\n",
       "      <td>Credit card or prepaid card</td>\n",
       "      <td>General-purpose credit card or charge card</td>\n",
       "      <td>Other features, terms, or problems</td>\n",
       "      <td>Other problem</td>\n",
       "      <td>It has come to my attention the CITI group is actively attempting to interfere with rights guaranteed by the Constitution ( 2nd Amendment ) by manipulating or denying service to certain entities or transactions that are protected by the Constitution. I do not expect CITI group, or any other financial institution to be controlling the nation 's activities through such unpatriotic and un-American behavior. I do expect CITI group to tend to the business of their business and stay out of the business of social tyranny.</td>\n",
       "      <td>Company has responded to the consumer and the CFPB and chooses not to provide a public response</td>\n",
       "      <td>CITIBANK, N.A.</td>\n",
       "      <td>MI</td>\n",
       "      <td>490XX</td>\n",
       "      <td>None</td>\n",
       "      <td>Consent provided</td>\n",
       "      <td>Web</td>\n",
       "      <td>2018-04-28</td>\n",
       "      <td>Closed with explanation</td>\n",
       "      <td>Yes</td>\n",
       "      <td>NaN</td>\n",
       "      <td>2890586</td>\n",
       "    </tr>\n",
       "    <tr>\n",
       "      <th>...</th>\n",
       "      <td>...</td>\n",
       "      <td>...</td>\n",
       "      <td>...</td>\n",
       "      <td>...</td>\n",
       "      <td>...</td>\n",
       "      <td>...</td>\n",
       "      <td>...</td>\n",
       "      <td>...</td>\n",
       "      <td>...</td>\n",
       "      <td>...</td>\n",
       "      <td>...</td>\n",
       "      <td>...</td>\n",
       "      <td>...</td>\n",
       "      <td>...</td>\n",
       "      <td>...</td>\n",
       "      <td>...</td>\n",
       "      <td>...</td>\n",
       "      <td>...</td>\n",
       "    </tr>\n",
       "    <tr>\n",
       "      <th>191091</th>\n",
       "      <td>2018-11-30</td>\n",
       "      <td>Mortgage</td>\n",
       "      <td>FHA mortgage</td>\n",
       "      <td>Closing on a mortgage</td>\n",
       "      <td>None</td>\n",
       "      <td>NaN</td>\n",
       "      <td>None</td>\n",
       "      <td>PRIMELENDING, A PLAINSCAPITAL COMPANY</td>\n",
       "      <td>FL</td>\n",
       "      <td>32503</td>\n",
       "      <td>None</td>\n",
       "      <td>NaN</td>\n",
       "      <td>Phone</td>\n",
       "      <td>2018-12-12</td>\n",
       "      <td>Closed with explanation</td>\n",
       "      <td>Yes</td>\n",
       "      <td>NaN</td>\n",
       "      <td>3088318</td>\n",
       "    </tr>\n",
       "    <tr>\n",
       "      <th>191092</th>\n",
       "      <td>2019-01-31</td>\n",
       "      <td>Mortgage</td>\n",
       "      <td>Conventional home mortgage</td>\n",
       "      <td>Struggling to pay mortgage</td>\n",
       "      <td>None</td>\n",
       "      <td>NaN</td>\n",
       "      <td>None</td>\n",
       "      <td>Fay Servicing, LLC</td>\n",
       "      <td>NC</td>\n",
       "      <td>284XX</td>\n",
       "      <td>Servicemember</td>\n",
       "      <td>Other</td>\n",
       "      <td>Web</td>\n",
       "      <td>2019-01-31</td>\n",
       "      <td>Closed with explanation</td>\n",
       "      <td>Yes</td>\n",
       "      <td>NaN</td>\n",
       "      <td>3139288</td>\n",
       "    </tr>\n",
       "    <tr>\n",
       "      <th>191093</th>\n",
       "      <td>2019-02-14</td>\n",
       "      <td>Vehicle loan or lease</td>\n",
       "      <td>Loan</td>\n",
       "      <td>Getting a loan or lease</td>\n",
       "      <td>Fraudulent loan</td>\n",
       "      <td>NaN</td>\n",
       "      <td>None</td>\n",
       "      <td>Exeter Finance Corp.</td>\n",
       "      <td>LA</td>\n",
       "      <td>70003</td>\n",
       "      <td>None</td>\n",
       "      <td>NaN</td>\n",
       "      <td>Phone</td>\n",
       "      <td>2019-02-14</td>\n",
       "      <td>Closed with explanation</td>\n",
       "      <td>Yes</td>\n",
       "      <td>NaN</td>\n",
       "      <td>3152549</td>\n",
       "    </tr>\n",
       "    <tr>\n",
       "      <th>191094</th>\n",
       "      <td>2019-02-08</td>\n",
       "      <td>Credit card or prepaid card</td>\n",
       "      <td>General-purpose credit card or charge card</td>\n",
       "      <td>Fees or interest</td>\n",
       "      <td>Unexpected increase in interest rate</td>\n",
       "      <td>NaN</td>\n",
       "      <td>None</td>\n",
       "      <td>CAPITAL ONE FINANCIAL CORPORATION</td>\n",
       "      <td>CA</td>\n",
       "      <td>95648</td>\n",
       "      <td>None</td>\n",
       "      <td>NaN</td>\n",
       "      <td>Referral</td>\n",
       "      <td>2019-02-21</td>\n",
       "      <td>Closed with monetary relief</td>\n",
       "      <td>Yes</td>\n",
       "      <td>NaN</td>\n",
       "      <td>3159329</td>\n",
       "    </tr>\n",
       "    <tr>\n",
       "      <th>191095</th>\n",
       "      <td>2018-12-08</td>\n",
       "      <td>Mortgage</td>\n",
       "      <td>FHA mortgage</td>\n",
       "      <td>Applying for a mortgage or refinancing an existing mortgage</td>\n",
       "      <td>None</td>\n",
       "      <td>NaN</td>\n",
       "      <td>None</td>\n",
       "      <td>QUICKEN LOANS, INC.</td>\n",
       "      <td>AZ</td>\n",
       "      <td>85205</td>\n",
       "      <td>None</td>\n",
       "      <td>Consent not provided</td>\n",
       "      <td>Web</td>\n",
       "      <td>2018-12-08</td>\n",
       "      <td>Closed with explanation</td>\n",
       "      <td>Yes</td>\n",
       "      <td>NaN</td>\n",
       "      <td>3094835</td>\n",
       "    </tr>\n",
       "  </tbody>\n",
       "</table>\n",
       "<p>191096 rows × 18 columns</p>\n",
       "</div>"
      ],
      "text/plain": [
       "       Date received                      Product                                 Sub-product                                                        Issue                                                                         Sub-issue  \\\n",
       "0         2018-04-19  Credit card or prepaid card  General-purpose credit card or charge card                                         Closing your account                                                          Can't close your account   \n",
       "1         2019-02-12  Credit card or prepaid card  General-purpose credit card or charge card              Problem with a purchase shown on your statement  Credit card company isn't resolving a dispute about a purchase on your statement   \n",
       "2         2018-04-12                     Mortgage                  Conventional home mortgage                         Incorrect information on your report                                                                              None   \n",
       "3         2018-04-18                 Student loan              Federal student loan servicing                                Struggling to repay your loan                                            Problem lowering your monthly payments   \n",
       "4         2018-04-28  Credit card or prepaid card  General-purpose credit card or charge card                           Other features, terms, or problems                                                                     Other problem   \n",
       "...              ...                          ...                                         ...                                                          ...                                                                               ...   \n",
       "191091    2018-11-30                     Mortgage                                FHA mortgage                                        Closing on a mortgage                                                                              None   \n",
       "191092    2019-01-31                     Mortgage                  Conventional home mortgage                                   Struggling to pay mortgage                                                                              None   \n",
       "191093    2019-02-14        Vehicle loan or lease                                        Loan                                      Getting a loan or lease                                                                   Fraudulent loan   \n",
       "191094    2019-02-08  Credit card or prepaid card  General-purpose credit card or charge card                                             Fees or interest                                              Unexpected increase in interest rate   \n",
       "191095    2018-12-08                     Mortgage                                FHA mortgage  Applying for a mortgage or refinancing an existing mortgage                                                                              None   \n",
       "\n",
       "                                                                                                                                                                                                                                                                                                                                                                                                                                                                                                                                                                                                                                                                                                                                                                                                                                                                                                                                                                                                                   Consumer complaint narrative  \\\n",
       "0                                                                                                                                                                                                                                                                                                                                                                                                                                                                                                                                                                                                                                                                                                                                                                                                                                                                                                                                                                                                                                           NaN   \n",
       "1                                                                                                                                                                                                 I initially in writing to Chase Bank in late XXXX about a charge that was unauthorized on XXXX from XXXX in the amount of {$790.00} after many letters and complaints they still did not do anything yet in XXXX they closed my original account and reissued a new account and sent me a letter indicating they moved this charge to fraud and it would be immediately credited however they have failed to do that and almost 8 months later it is still on my statement and I'm getting charged interest. Even after this I still use my card and PAY for my charges and have never been late however I will not pay for a charge I didn't make and refuse and Chase refuses to do anything even after many attempts and letters they write stating so. I feel this is last step before I begin a case in XXXX XXXX XXXX XXXX against them   \n",
       "2       My ex husband and myself had a mobile home ( Home Mortgage ) with XXXX XXXX back in XX/XX/XXXX. I went through a horrible divorce as my husband was using drugs and failing to pay the bills which led to my having to divorce him. The Mortgage was in both of our names. We only had the Mortgage for one year and they got the trailer bc of being unable to pay debt. I was not working at the time as I had just given birth to my first child in XX/XX/XXXX ( she is now XXXX of age ) as this happened years ago. \\n\\nNow after 21 years, XXXX XXXX XXXX XXXX  filled a XXXX XXXX to the IRS and the IRS alerted me which caused me an adverse affect on my IRS taxes. \\nI received a l letter from the IRS XX/XX/XXXX which stated that due to DITECH Mortgage sending a XXXX with taxable income of {$17000.00}, this could cause me to have to owe the IRS {$2900.00}. IRS Told me to contact DITECH Financial to dispute this and request that DITECH Mortgage rescind the XXXX in order ( so it is not XXXX, XXXX taxabl...   \n",
       "3                                        I was a student at XXXX XXXX from XX/XX/XXXX-XX/XX/XXXX. I accumulated XXXX of debt in student loans. This school flat out lied to me. I was under the assumption it would have been less than half of that since I had a lot of credits that transferred, not to mention this school promised me job placement, which they did not! They told me I would be making a lot more than what I do. They gave me false information. The only thing this school did for me is put me in tons of debt and lied to me. I am a single mother of XXXX  and was so excited to get my degree. Until I graduated and realize how much they lied to me. The school is now shut down. Can I get these loans forgiven due to being lied to and given false information that basically pressured me into enrolling. If I would have known that my student loans would have been this high. I would have just stayed at the XXXX college where I did my prerequisites. I feel like I fool that XXXX had done this to me.   \n",
       "4                                                                                                                                                                                                                                                                                                                                                                                                                                                                                                      It has come to my attention the CITI group is actively attempting to interfere with rights guaranteed by the Constitution ( 2nd Amendment ) by manipulating or denying service to certain entities or transactions that are protected by the Constitution. I do not expect CITI group, or any other financial institution to be controlling the nation 's activities through such unpatriotic and un-American behavior. I do expect CITI group to tend to the business of their business and stay out of the business of social tyranny.   \n",
       "...                                                                                                                                                                                                                                                                                                                                                                                                                                                                                                                                                                                                                                                                                                                                                                                                                                                                                                                                                                                                                                         ...   \n",
       "191091                                                                                                                                                                                                                                                                                                                                                                                                                                                                                                                                                                                                                                                                                                                                                                                                                                                                                                                                                                                                                                      NaN   \n",
       "191092                                                                                                                                                                                                                                                                                                                                                                                                                                                                                                                                                                                                                                                                                                                                                                                                                                                                                                                                                                                                                                      NaN   \n",
       "191093                                                                                                                                                                                                                                                                                                                                                                                                                                                                                                                                                                                                                                                                                                                                                                                                                                                                                                                                                                                                                                      NaN   \n",
       "191094                                                                                                                                                                                                                                                                                                                                                                                                                                                                                                                                                                                                                                                                                                                                                                                                                                                                                                                                                                                                                                      NaN   \n",
       "191095                                                                                                                                                                                                                                                                                                                                                                                                                                                                                                                                                                                                                                                                                                                                                                                                                                                                                                                                                                                                                                      NaN   \n",
       "\n",
       "                                                                                Company public response                                Company State ZIP code           Tags Consumer consent provided? Submitted via Date sent to company Company response to consumer Timely response?  Consumer disputed?  Complaint ID  \n",
       "0       Company has responded to the consumer and the CFPB and chooses not to provide a public response                         CITIBANK, N.A.    AL    361XX           None       Consent not provided           Web           2018-04-19      Closed with explanation              Yes                 NaN       2880655  \n",
       "1                                                                                                  None                   JPMORGAN CHASE & CO.    CT    064XX           None           Consent provided           Web           2019-02-12  Closed with monetary relief              Yes                 NaN       3149693  \n",
       "2                                         Company believes complaint is the result of an isolated error                   Ditech Financial LLC    GA     None           None           Consent provided           Web           2018-04-12      Closed with explanation              Yes                 NaN       2873888  \n",
       "3                                                                                                  None                Navient Solutions, LLC.    IN    463XX           None           Consent provided           Web           2018-04-18      Closed with explanation              Yes                 NaN       2879448  \n",
       "4       Company has responded to the consumer and the CFPB and chooses not to provide a public response                         CITIBANK, N.A.    MI    490XX           None           Consent provided           Web           2018-04-28      Closed with explanation              Yes                 NaN       2890586  \n",
       "...                                                                                                 ...                                    ...   ...      ...            ...                        ...           ...                  ...                          ...              ...                 ...           ...  \n",
       "191091                                                                                             None  PRIMELENDING, A PLAINSCAPITAL COMPANY    FL    32503           None                        NaN         Phone           2018-12-12      Closed with explanation              Yes                 NaN       3088318  \n",
       "191092                                                                                             None                     Fay Servicing, LLC    NC    284XX  Servicemember                      Other           Web           2019-01-31      Closed with explanation              Yes                 NaN       3139288  \n",
       "191093                                                                                             None                   Exeter Finance Corp.    LA    70003           None                        NaN         Phone           2019-02-14      Closed with explanation              Yes                 NaN       3152549  \n",
       "191094                                                                                             None      CAPITAL ONE FINANCIAL CORPORATION    CA    95648           None                        NaN      Referral           2019-02-21  Closed with monetary relief              Yes                 NaN       3159329  \n",
       "191095                                                                                             None                    QUICKEN LOANS, INC.    AZ    85205           None       Consent not provided           Web           2018-12-08      Closed with explanation              Yes                 NaN       3094835  \n",
       "\n",
       "[191096 rows x 18 columns]"
      ]
     },
     "execution_count": 64,
     "metadata": {},
     "output_type": "execute_result"
    }
   ],
   "source": [
    "df"
   ]
  },
  {
   "cell_type": "code",
   "execution_count": 65,
   "metadata": {},
   "outputs": [
    {
     "name": "stdout",
     "output_type": "stream",
     "text": [
      "<class 'pandas.core.frame.DataFrame'>\n",
      "RangeIndex: 191096 entries, 0 to 191095\n",
      "Data columns (total 18 columns):\n",
      " #   Column                        Non-Null Count   Dtype         \n",
      "---  ------                        --------------   -----         \n",
      " 0   Date received                 191096 non-null  datetime64[ns]\n",
      " 1   Product                       191096 non-null  object        \n",
      " 2   Sub-product                   191096 non-null  object        \n",
      " 3   Issue                         191096 non-null  object        \n",
      " 4   Sub-issue                     191096 non-null  object        \n",
      " 5   Consumer complaint narrative  90975 non-null   object        \n",
      " 6   Company public response       191096 non-null  object        \n",
      " 7   Company                       191096 non-null  object        \n",
      " 8   State                         191096 non-null  object        \n",
      " 9   ZIP code                      191096 non-null  object        \n",
      " 10  Tags                          191096 non-null  object        \n",
      " 11  Consumer consent provided?    141343 non-null  object        \n",
      " 12  Submitted via                 191096 non-null  object        \n",
      " 13  Date sent to company          191096 non-null  datetime64[ns]\n",
      " 14  Company response to consumer  191096 non-null  object        \n",
      " 15  Timely response?              191096 non-null  object        \n",
      " 16  Consumer disputed?            0 non-null       float64       \n",
      " 17  Complaint ID                  191096 non-null  int64         \n",
      "dtypes: datetime64[ns](2), float64(1), int64(1), object(14)\n",
      "memory usage: 26.2+ MB\n"
     ]
    }
   ],
   "source": [
    "df.info()"
   ]
  },
  {
   "cell_type": "code",
   "execution_count": 66,
   "metadata": {},
   "outputs": [
    {
     "data": {
      "text/html": [
       "<div>\n",
       "<style scoped>\n",
       "    .dataframe tbody tr th:only-of-type {\n",
       "        vertical-align: middle;\n",
       "    }\n",
       "\n",
       "    .dataframe tbody tr th {\n",
       "        vertical-align: top;\n",
       "    }\n",
       "\n",
       "    .dataframe thead th {\n",
       "        text-align: right;\n",
       "    }\n",
       "</style>\n",
       "<table border=\"1\" class=\"dataframe\">\n",
       "  <thead>\n",
       "    <tr style=\"text-align: right;\">\n",
       "      <th></th>\n",
       "      <th>Consumer disputed?</th>\n",
       "      <th>Complaint ID</th>\n",
       "    </tr>\n",
       "  </thead>\n",
       "  <tbody>\n",
       "    <tr>\n",
       "      <th>count</th>\n",
       "      <td>0.00</td>\n",
       "      <td>191096.00</td>\n",
       "    </tr>\n",
       "    <tr>\n",
       "      <th>mean</th>\n",
       "      <td>NaN</td>\n",
       "      <td>3242692.66</td>\n",
       "    </tr>\n",
       "    <tr>\n",
       "      <th>std</th>\n",
       "      <td>NaN</td>\n",
       "      <td>332786.79</td>\n",
       "    </tr>\n",
       "    <tr>\n",
       "      <th>min</th>\n",
       "      <td>NaN</td>\n",
       "      <td>2702098.00</td>\n",
       "    </tr>\n",
       "    <tr>\n",
       "      <th>25%</th>\n",
       "      <td>NaN</td>\n",
       "      <td>2954293.75</td>\n",
       "    </tr>\n",
       "    <tr>\n",
       "      <th>50%</th>\n",
       "      <td>NaN</td>\n",
       "      <td>3219961.50</td>\n",
       "    </tr>\n",
       "    <tr>\n",
       "      <th>75%</th>\n",
       "      <td>NaN</td>\n",
       "      <td>3517407.25</td>\n",
       "    </tr>\n",
       "    <tr>\n",
       "      <th>max</th>\n",
       "      <td>NaN</td>\n",
       "      <td>3900135.00</td>\n",
       "    </tr>\n",
       "  </tbody>\n",
       "</table>\n",
       "</div>"
      ],
      "text/plain": [
       "       Consumer disputed?  Complaint ID\n",
       "count                0.00     191096.00\n",
       "mean                  NaN    3242692.66\n",
       "std                   NaN     332786.79\n",
       "min                   NaN    2702098.00\n",
       "25%                   NaN    2954293.75\n",
       "50%                   NaN    3219961.50\n",
       "75%                   NaN    3517407.25\n",
       "max                   NaN    3900135.00"
      ]
     },
     "execution_count": 66,
     "metadata": {},
     "output_type": "execute_result"
    }
   ],
   "source": [
    "df.describe()"
   ]
  },
  {
   "cell_type": "code",
   "execution_count": 67,
   "metadata": {},
   "outputs": [
    {
     "data": {
      "text/plain": [
       "Index(['Date received', 'Product', 'Sub-product', 'Issue', 'Sub-issue', 'Consumer complaint narrative', 'Company public response', 'Company', 'State', 'ZIP code', 'Tags', 'Consumer consent provided?', 'Submitted via', 'Date sent to company', 'Company response to consumer', 'Timely response?', 'Consumer disputed?', 'Complaint ID'], dtype='object')"
      ]
     },
     "execution_count": 67,
     "metadata": {},
     "output_type": "execute_result"
    }
   ],
   "source": [
    "df.columns"
   ]
  },
  {
   "cell_type": "code",
   "execution_count": 68,
   "metadata": {},
   "outputs": [
    {
     "data": {
      "text/html": [
       "<div>\n",
       "<style scoped>\n",
       "    .dataframe tbody tr th:only-of-type {\n",
       "        vertical-align: middle;\n",
       "    }\n",
       "\n",
       "    .dataframe tbody tr th {\n",
       "        vertical-align: top;\n",
       "    }\n",
       "\n",
       "    .dataframe thead th {\n",
       "        text-align: right;\n",
       "    }\n",
       "</style>\n",
       "<table border=\"1\" class=\"dataframe\">\n",
       "  <thead>\n",
       "    <tr style=\"text-align: right;\">\n",
       "      <th></th>\n",
       "      <th>Date received</th>\n",
       "      <th>Product</th>\n",
       "      <th>Sub-product</th>\n",
       "      <th>Issue</th>\n",
       "      <th>Sub-issue</th>\n",
       "      <th>Consumer complaint narrative</th>\n",
       "      <th>Company public response</th>\n",
       "      <th>Company</th>\n",
       "      <th>State</th>\n",
       "      <th>ZIP code</th>\n",
       "      <th>Tags</th>\n",
       "      <th>Consumer consent provided?</th>\n",
       "      <th>Submitted via</th>\n",
       "      <th>Date sent to company</th>\n",
       "      <th>Company response to consumer</th>\n",
       "      <th>Timely response?</th>\n",
       "      <th>Consumer disputed?</th>\n",
       "      <th>Complaint ID</th>\n",
       "    </tr>\n",
       "  </thead>\n",
       "  <tbody>\n",
       "    <tr>\n",
       "      <th>0</th>\n",
       "      <td>2018-04-19</td>\n",
       "      <td>Credit card or prepaid card</td>\n",
       "      <td>General-purpose credit card or charge card</td>\n",
       "      <td>Closing your account</td>\n",
       "      <td>Can't close your account</td>\n",
       "      <td>NaN</td>\n",
       "      <td>Company has responded to the consumer and the CFPB and chooses not to provide a public response</td>\n",
       "      <td>CITIBANK, N.A.</td>\n",
       "      <td>AL</td>\n",
       "      <td>361XX</td>\n",
       "      <td>None</td>\n",
       "      <td>Consent not provided</td>\n",
       "      <td>Web</td>\n",
       "      <td>2018-04-19</td>\n",
       "      <td>Closed with explanation</td>\n",
       "      <td>Yes</td>\n",
       "      <td>NaN</td>\n",
       "      <td>2880655</td>\n",
       "    </tr>\n",
       "    <tr>\n",
       "      <th>1</th>\n",
       "      <td>2019-02-12</td>\n",
       "      <td>Credit card or prepaid card</td>\n",
       "      <td>General-purpose credit card or charge card</td>\n",
       "      <td>Problem with a purchase shown on your statement</td>\n",
       "      <td>Credit card company isn't resolving a dispute about a purchase on your statement</td>\n",
       "      <td>I initially in writing to Chase Bank in late XXXX about a charge that was unauthorized on XXXX from XXXX in the amount of {$790.00} after many letters and complaints they still did not do anything yet in XXXX they closed my original account and reissued a new account and sent me a letter indicating they moved this charge to fraud and it would be immediately credited however they have failed to do that and almost 8 months later it is still on my statement and I'm getting charged interest. Even after this I still use my card and PAY for my charges and have never been late however I will not pay for a charge I didn't make and refuse and Chase refuses to do anything even after many attempts and letters they write stating so. I feel this is last step before I begin a case in XXXX XXXX XXXX XXXX against them</td>\n",
       "      <td>None</td>\n",
       "      <td>JPMORGAN CHASE &amp; CO.</td>\n",
       "      <td>CT</td>\n",
       "      <td>064XX</td>\n",
       "      <td>None</td>\n",
       "      <td>Consent provided</td>\n",
       "      <td>Web</td>\n",
       "      <td>2019-02-12</td>\n",
       "      <td>Closed with monetary relief</td>\n",
       "      <td>Yes</td>\n",
       "      <td>NaN</td>\n",
       "      <td>3149693</td>\n",
       "    </tr>\n",
       "    <tr>\n",
       "      <th>2</th>\n",
       "      <td>2018-04-12</td>\n",
       "      <td>Mortgage</td>\n",
       "      <td>Conventional home mortgage</td>\n",
       "      <td>Incorrect information on your report</td>\n",
       "      <td>None</td>\n",
       "      <td>My ex husband and myself had a mobile home ( Home Mortgage ) with XXXX XXXX back in XX/XX/XXXX. I went through a horrible divorce as my husband was using drugs and failing to pay the bills which led to my having to divorce him. The Mortgage was in both of our names. We only had the Mortgage for one year and they got the trailer bc of being unable to pay debt. I was not working at the time as I had just given birth to my first child in XX/XX/XXXX ( she is now XXXX of age ) as this happened years ago. \\n\\nNow after 21 years, XXXX XXXX XXXX XXXX  filled a XXXX XXXX to the IRS and the IRS alerted me which caused me an adverse affect on my IRS taxes. \\nI received a l letter from the IRS XX/XX/XXXX which stated that due to DITECH Mortgage sending a XXXX with taxable income of {$17000.00}, this could cause me to have to owe the IRS {$2900.00}. IRS Told me to contact DITECH Financial to dispute this and request that DITECH Mortgage rescind the XXXX in order ( so it is not XXXX, XXXX taxabl...</td>\n",
       "      <td>Company believes complaint is the result of an isolated error</td>\n",
       "      <td>Ditech Financial LLC</td>\n",
       "      <td>GA</td>\n",
       "      <td>None</td>\n",
       "      <td>None</td>\n",
       "      <td>Consent provided</td>\n",
       "      <td>Web</td>\n",
       "      <td>2018-04-12</td>\n",
       "      <td>Closed with explanation</td>\n",
       "      <td>Yes</td>\n",
       "      <td>NaN</td>\n",
       "      <td>2873888</td>\n",
       "    </tr>\n",
       "    <tr>\n",
       "      <th>3</th>\n",
       "      <td>2018-04-18</td>\n",
       "      <td>Student loan</td>\n",
       "      <td>Federal student loan servicing</td>\n",
       "      <td>Struggling to repay your loan</td>\n",
       "      <td>Problem lowering your monthly payments</td>\n",
       "      <td>I was a student at XXXX XXXX from XX/XX/XXXX-XX/XX/XXXX. I accumulated XXXX of debt in student loans. This school flat out lied to me. I was under the assumption it would have been less than half of that since I had a lot of credits that transferred, not to mention this school promised me job placement, which they did not! They told me I would be making a lot more than what I do. They gave me false information. The only thing this school did for me is put me in tons of debt and lied to me. I am a single mother of XXXX  and was so excited to get my degree. Until I graduated and realize how much they lied to me. The school is now shut down. Can I get these loans forgiven due to being lied to and given false information that basically pressured me into enrolling. If I would have known that my student loans would have been this high. I would have just stayed at the XXXX college where I did my prerequisites. I feel like I fool that XXXX had done this to me.</td>\n",
       "      <td>None</td>\n",
       "      <td>Navient Solutions, LLC.</td>\n",
       "      <td>IN</td>\n",
       "      <td>463XX</td>\n",
       "      <td>None</td>\n",
       "      <td>Consent provided</td>\n",
       "      <td>Web</td>\n",
       "      <td>2018-04-18</td>\n",
       "      <td>Closed with explanation</td>\n",
       "      <td>Yes</td>\n",
       "      <td>NaN</td>\n",
       "      <td>2879448</td>\n",
       "    </tr>\n",
       "    <tr>\n",
       "      <th>4</th>\n",
       "      <td>2018-04-28</td>\n",
       "      <td>Credit card or prepaid card</td>\n",
       "      <td>General-purpose credit card or charge card</td>\n",
       "      <td>Other features, terms, or problems</td>\n",
       "      <td>Other problem</td>\n",
       "      <td>It has come to my attention the CITI group is actively attempting to interfere with rights guaranteed by the Constitution ( 2nd Amendment ) by manipulating or denying service to certain entities or transactions that are protected by the Constitution. I do not expect CITI group, or any other financial institution to be controlling the nation 's activities through such unpatriotic and un-American behavior. I do expect CITI group to tend to the business of their business and stay out of the business of social tyranny.</td>\n",
       "      <td>Company has responded to the consumer and the CFPB and chooses not to provide a public response</td>\n",
       "      <td>CITIBANK, N.A.</td>\n",
       "      <td>MI</td>\n",
       "      <td>490XX</td>\n",
       "      <td>None</td>\n",
       "      <td>Consent provided</td>\n",
       "      <td>Web</td>\n",
       "      <td>2018-04-28</td>\n",
       "      <td>Closed with explanation</td>\n",
       "      <td>Yes</td>\n",
       "      <td>NaN</td>\n",
       "      <td>2890586</td>\n",
       "    </tr>\n",
       "  </tbody>\n",
       "</table>\n",
       "</div>"
      ],
      "text/plain": [
       "  Date received                      Product                                 Sub-product                                            Issue                                                                         Sub-issue  \\\n",
       "0    2018-04-19  Credit card or prepaid card  General-purpose credit card or charge card                             Closing your account                                                          Can't close your account   \n",
       "1    2019-02-12  Credit card or prepaid card  General-purpose credit card or charge card  Problem with a purchase shown on your statement  Credit card company isn't resolving a dispute about a purchase on your statement   \n",
       "2    2018-04-12                     Mortgage                  Conventional home mortgage             Incorrect information on your report                                                                              None   \n",
       "3    2018-04-18                 Student loan              Federal student loan servicing                    Struggling to repay your loan                                            Problem lowering your monthly payments   \n",
       "4    2018-04-28  Credit card or prepaid card  General-purpose credit card or charge card               Other features, terms, or problems                                                                     Other problem   \n",
       "\n",
       "                                                                                                                                                                                                                                                                                                                                                                                                                                                                                                                                                                                                                                                                                                                                                                                                                                                                                                                                                                                                              Consumer complaint narrative  \\\n",
       "0                                                                                                                                                                                                                                                                                                                                                                                                                                                                                                                                                                                                                                                                                                                                                                                                                                                                                                                                                                                                                                      NaN   \n",
       "1                                                                                                                                                                                            I initially in writing to Chase Bank in late XXXX about a charge that was unauthorized on XXXX from XXXX in the amount of {$790.00} after many letters and complaints they still did not do anything yet in XXXX they closed my original account and reissued a new account and sent me a letter indicating they moved this charge to fraud and it would be immediately credited however they have failed to do that and almost 8 months later it is still on my statement and I'm getting charged interest. Even after this I still use my card and PAY for my charges and have never been late however I will not pay for a charge I didn't make and refuse and Chase refuses to do anything even after many attempts and letters they write stating so. I feel this is last step before I begin a case in XXXX XXXX XXXX XXXX against them   \n",
       "2  My ex husband and myself had a mobile home ( Home Mortgage ) with XXXX XXXX back in XX/XX/XXXX. I went through a horrible divorce as my husband was using drugs and failing to pay the bills which led to my having to divorce him. The Mortgage was in both of our names. We only had the Mortgage for one year and they got the trailer bc of being unable to pay debt. I was not working at the time as I had just given birth to my first child in XX/XX/XXXX ( she is now XXXX of age ) as this happened years ago. \\n\\nNow after 21 years, XXXX XXXX XXXX XXXX  filled a XXXX XXXX to the IRS and the IRS alerted me which caused me an adverse affect on my IRS taxes. \\nI received a l letter from the IRS XX/XX/XXXX which stated that due to DITECH Mortgage sending a XXXX with taxable income of {$17000.00}, this could cause me to have to owe the IRS {$2900.00}. IRS Told me to contact DITECH Financial to dispute this and request that DITECH Mortgage rescind the XXXX in order ( so it is not XXXX, XXXX taxabl...   \n",
       "3                                   I was a student at XXXX XXXX from XX/XX/XXXX-XX/XX/XXXX. I accumulated XXXX of debt in student loans. This school flat out lied to me. I was under the assumption it would have been less than half of that since I had a lot of credits that transferred, not to mention this school promised me job placement, which they did not! They told me I would be making a lot more than what I do. They gave me false information. The only thing this school did for me is put me in tons of debt and lied to me. I am a single mother of XXXX  and was so excited to get my degree. Until I graduated and realize how much they lied to me. The school is now shut down. Can I get these loans forgiven due to being lied to and given false information that basically pressured me into enrolling. If I would have known that my student loans would have been this high. I would have just stayed at the XXXX college where I did my prerequisites. I feel like I fool that XXXX had done this to me.   \n",
       "4                                                                                                                                                                                                                                                                                                                                                                                                                                                                                                 It has come to my attention the CITI group is actively attempting to interfere with rights guaranteed by the Constitution ( 2nd Amendment ) by manipulating or denying service to certain entities or transactions that are protected by the Constitution. I do not expect CITI group, or any other financial institution to be controlling the nation 's activities through such unpatriotic and un-American behavior. I do expect CITI group to tend to the business of their business and stay out of the business of social tyranny.   \n",
       "\n",
       "                                                                           Company public response                  Company State ZIP code  Tags Consumer consent provided? Submitted via Date sent to company Company response to consumer Timely response?  Consumer disputed?  Complaint ID  \n",
       "0  Company has responded to the consumer and the CFPB and chooses not to provide a public response           CITIBANK, N.A.    AL    361XX  None       Consent not provided           Web           2018-04-19      Closed with explanation              Yes                 NaN       2880655  \n",
       "1                                                                                             None     JPMORGAN CHASE & CO.    CT    064XX  None           Consent provided           Web           2019-02-12  Closed with monetary relief              Yes                 NaN       3149693  \n",
       "2                                    Company believes complaint is the result of an isolated error     Ditech Financial LLC    GA     None  None           Consent provided           Web           2018-04-12      Closed with explanation              Yes                 NaN       2873888  \n",
       "3                                                                                             None  Navient Solutions, LLC.    IN    463XX  None           Consent provided           Web           2018-04-18      Closed with explanation              Yes                 NaN       2879448  \n",
       "4  Company has responded to the consumer and the CFPB and chooses not to provide a public response           CITIBANK, N.A.    MI    490XX  None           Consent provided           Web           2018-04-28      Closed with explanation              Yes                 NaN       2890586  "
      ]
     },
     "execution_count": 68,
     "metadata": {},
     "output_type": "execute_result"
    }
   ],
   "source": [
    "df2 = df[df[\"Date received\"] > '2018-01-01']\n",
    "df2.head()"
   ]
  },
  {
   "cell_type": "code",
   "execution_count": 69,
   "metadata": {},
   "outputs": [
    {
     "data": {
      "text/plain": [
       "Credit card or prepaid card    75846\n",
       "Mortgage                       65852\n",
       "Student loan                   19529\n",
       "Vehicle loan or lease          16557\n",
       "Name: Product, dtype: int64"
      ]
     },
     "execution_count": 69,
     "metadata": {},
     "output_type": "execute_result"
    }
   ],
   "source": [
    "df2.Product.value_counts()"
   ]
  },
  {
   "cell_type": "code",
   "execution_count": 70,
   "metadata": {},
   "outputs": [],
   "source": [
    "df3 = df2[df2[\"Product\"] == \"Student loan\"]"
   ]
  },
  {
   "cell_type": "code",
   "execution_count": 71,
   "metadata": {},
   "outputs": [
    {
     "data": {
      "text/html": [
       "<div>\n",
       "<style scoped>\n",
       "    .dataframe tbody tr th:only-of-type {\n",
       "        vertical-align: middle;\n",
       "    }\n",
       "\n",
       "    .dataframe tbody tr th {\n",
       "        vertical-align: top;\n",
       "    }\n",
       "\n",
       "    .dataframe thead th {\n",
       "        text-align: right;\n",
       "    }\n",
       "</style>\n",
       "<table border=\"1\" class=\"dataframe\">\n",
       "  <thead>\n",
       "    <tr style=\"text-align: right;\">\n",
       "      <th></th>\n",
       "      <th>Date received</th>\n",
       "      <th>Product</th>\n",
       "      <th>Sub-product</th>\n",
       "      <th>Issue</th>\n",
       "      <th>Sub-issue</th>\n",
       "      <th>Consumer complaint narrative</th>\n",
       "      <th>Company public response</th>\n",
       "      <th>Company</th>\n",
       "      <th>State</th>\n",
       "      <th>ZIP code</th>\n",
       "      <th>Tags</th>\n",
       "      <th>Consumer consent provided?</th>\n",
       "      <th>Submitted via</th>\n",
       "      <th>Date sent to company</th>\n",
       "      <th>Company response to consumer</th>\n",
       "      <th>Timely response?</th>\n",
       "      <th>Consumer disputed?</th>\n",
       "      <th>Complaint ID</th>\n",
       "    </tr>\n",
       "  </thead>\n",
       "  <tbody>\n",
       "    <tr>\n",
       "      <th>3</th>\n",
       "      <td>2018-04-18</td>\n",
       "      <td>Student loan</td>\n",
       "      <td>Federal student loan servicing</td>\n",
       "      <td>Struggling to repay your loan</td>\n",
       "      <td>Problem lowering your monthly payments</td>\n",
       "      <td>I was a student at XXXX XXXX from XX/XX/XXXX-XX/XX/XXXX. I accumulated XXXX of debt in student loans. This school flat out lied to me. I was under the assumption it would have been less than half of that since I had a lot of credits that transferred, not to mention this school promised me job placement, which they did not! They told me I would be making a lot more than what I do. They gave me false information. The only thing this school did for me is put me in tons of debt and lied to me. I am a single mother of XXXX  and was so excited to get my degree. Until I graduated and realize how much they lied to me. The school is now shut down. Can I get these loans forgiven due to being lied to and given false information that basically pressured me into enrolling. If I would have known that my student loans would have been this high. I would have just stayed at the XXXX college where I did my prerequisites. I feel like I fool that XXXX had done this to me.</td>\n",
       "      <td>None</td>\n",
       "      <td>Navient Solutions, LLC.</td>\n",
       "      <td>IN</td>\n",
       "      <td>463XX</td>\n",
       "      <td>None</td>\n",
       "      <td>Consent provided</td>\n",
       "      <td>Web</td>\n",
       "      <td>2018-04-18</td>\n",
       "      <td>Closed with explanation</td>\n",
       "      <td>Yes</td>\n",
       "      <td>NaN</td>\n",
       "      <td>2879448</td>\n",
       "    </tr>\n",
       "    <tr>\n",
       "      <th>17</th>\n",
       "      <td>2018-04-24</td>\n",
       "      <td>Student loan</td>\n",
       "      <td>Federal student loan servicing</td>\n",
       "      <td>Dealing with your lender or servicer</td>\n",
       "      <td>Trouble with how payments are being handled</td>\n",
       "      <td>My student loans are currently being services by Pennsylvania Higher Education Assistance Agency. I have had several periods of \" qualifying employment '' through the Public Service Loan Forgiveness program. I believe that PHEAA has overcharged me, which results in payments that carry over into the next billing period and result in fewer qualifying payments.</td>\n",
       "      <td>None</td>\n",
       "      <td>AES/PHEAA</td>\n",
       "      <td>NY</td>\n",
       "      <td>None</td>\n",
       "      <td>None</td>\n",
       "      <td>Consent provided</td>\n",
       "      <td>Web</td>\n",
       "      <td>2018-04-24</td>\n",
       "      <td>Closed with non-monetary relief</td>\n",
       "      <td>Yes</td>\n",
       "      <td>NaN</td>\n",
       "      <td>2886272</td>\n",
       "    </tr>\n",
       "    <tr>\n",
       "      <th>26</th>\n",
       "      <td>2018-05-23</td>\n",
       "      <td>Student loan</td>\n",
       "      <td>Federal student loan servicing</td>\n",
       "      <td>Dealing with your lender or servicer</td>\n",
       "      <td>Received bad information about your loan</td>\n",
       "      <td>NaN</td>\n",
       "      <td>None</td>\n",
       "      <td>Navient Solutions, LLC.</td>\n",
       "      <td>None</td>\n",
       "      <td>None</td>\n",
       "      <td>None</td>\n",
       "      <td>NaN</td>\n",
       "      <td>Phone</td>\n",
       "      <td>2018-05-23</td>\n",
       "      <td>Closed with explanation</td>\n",
       "      <td>Yes</td>\n",
       "      <td>NaN</td>\n",
       "      <td>2915606</td>\n",
       "    </tr>\n",
       "  </tbody>\n",
       "</table>\n",
       "</div>"
      ],
      "text/plain": [
       "   Date received       Product                     Sub-product                                 Issue                                    Sub-issue  \\\n",
       "3     2018-04-18  Student loan  Federal student loan servicing         Struggling to repay your loan       Problem lowering your monthly payments   \n",
       "17    2018-04-24  Student loan  Federal student loan servicing  Dealing with your lender or servicer  Trouble with how payments are being handled   \n",
       "26    2018-05-23  Student loan  Federal student loan servicing  Dealing with your lender or servicer     Received bad information about your loan   \n",
       "\n",
       "                                                                                                                                                                                                                                                                                                                                                                                                                                                                                                                                                                                                                                                                                                                                                                                                                                                                                                                                                                              Consumer complaint narrative Company public response  \\\n",
       "3   I was a student at XXXX XXXX from XX/XX/XXXX-XX/XX/XXXX. I accumulated XXXX of debt in student loans. This school flat out lied to me. I was under the assumption it would have been less than half of that since I had a lot of credits that transferred, not to mention this school promised me job placement, which they did not! They told me I would be making a lot more than what I do. They gave me false information. The only thing this school did for me is put me in tons of debt and lied to me. I am a single mother of XXXX  and was so excited to get my degree. Until I graduated and realize how much they lied to me. The school is now shut down. Can I get these loans forgiven due to being lied to and given false information that basically pressured me into enrolling. If I would have known that my student loans would have been this high. I would have just stayed at the XXXX college where I did my prerequisites. I feel like I fool that XXXX had done this to me.                    None   \n",
       "17                                                                                                                                                                                                                                                                                                                                                                                                                                                                                                                                                                                                                                My student loans are currently being services by Pennsylvania Higher Education Assistance Agency. I have had several periods of \" qualifying employment '' through the Public Service Loan Forgiveness program. I believe that PHEAA has overcharged me, which results in payments that carry over into the next billing period and result in fewer qualifying payments.                    None   \n",
       "26                                                                                                                                                                                                                                                                                                                                                                                                                                                                                                                                                                                                                                                                                                                                                                                                                                                                                                                                                                                                     NaN                    None   \n",
       "\n",
       "                    Company State ZIP code  Tags Consumer consent provided? Submitted via Date sent to company     Company response to consumer Timely response?  Consumer disputed?  Complaint ID  \n",
       "3   Navient Solutions, LLC.    IN    463XX  None           Consent provided           Web           2018-04-18          Closed with explanation              Yes                 NaN       2879448  \n",
       "17                AES/PHEAA    NY     None  None           Consent provided           Web           2018-04-24  Closed with non-monetary relief              Yes                 NaN       2886272  \n",
       "26  Navient Solutions, LLC.  None     None  None                        NaN         Phone           2018-05-23          Closed with explanation              Yes                 NaN       2915606  "
      ]
     },
     "execution_count": 71,
     "metadata": {},
     "output_type": "execute_result"
    }
   ],
   "source": [
    "df3.head(3)"
   ]
  },
  {
   "cell_type": "code",
   "execution_count": 72,
   "metadata": {},
   "outputs": [
    {
     "data": {
      "text/plain": [
       "State\n",
       "AA                                         1\n",
       "MH                                         1\n",
       "AS                                         1\n",
       "VI                                         2\n",
       "UNITED STATES MINOR OUTLYING ISLANDS       2\n",
       "                                        ... \n",
       "PA                                       943\n",
       "TX                                      1293\n",
       "FL                                      1327\n",
       "NY                                      1374\n",
       "CA                                      2039\n",
       "Name: Issue, Length: 61, dtype: int64"
      ]
     },
     "execution_count": 72,
     "metadata": {},
     "output_type": "execute_result"
    }
   ],
   "source": [
    "df3.groupby(\"State\")[\"Issue\"].count().sort_values()"
   ]
  },
  {
   "cell_type": "markdown",
   "metadata": {},
   "source": [
    "How many student loan complaints did the US state with third most complaints have? = 1327"
   ]
  },
  {
   "cell_type": "code",
   "execution_count": 73,
   "metadata": {},
   "outputs": [
    {
     "data": {
      "text/plain": [
       "Index(['Date received', 'Product', 'Sub-product', 'Issue', 'Sub-issue', 'Consumer complaint narrative', 'Company public response', 'Company', 'State', 'ZIP code', 'Tags', 'Consumer consent provided?', 'Submitted via', 'Date sent to company', 'Company response to consumer', 'Timely response?', 'Consumer disputed?', 'Complaint ID'], dtype='object')"
      ]
     },
     "execution_count": 73,
     "metadata": {},
     "output_type": "execute_result"
    }
   ],
   "source": [
    "df.columns"
   ]
  },
  {
   "cell_type": "markdown",
   "metadata": {},
   "source": [
    "Complaints can be submitted in different ways to the CFPB. For example, someone can submit a complaint on the web, but they can also submit a complaint by phone. \n",
    "\n",
    "Consider all complaints that were submitted by phone. \n",
    "\n",
    "For this subset of complaints, what is the average amount of time between the complaint being received by CFPB (`Date received`) and the CFPB sending the complaint to the company (`Date sent to company`) ?  \n",
    "\n",
    "R​ound to the nearest tenths digit. "
   ]
  },
  {
   "cell_type": "code",
   "execution_count": 74,
   "metadata": {},
   "outputs": [
    {
     "data": {
      "text/html": [
       "<div>\n",
       "<style scoped>\n",
       "    .dataframe tbody tr th:only-of-type {\n",
       "        vertical-align: middle;\n",
       "    }\n",
       "\n",
       "    .dataframe tbody tr th {\n",
       "        vertical-align: top;\n",
       "    }\n",
       "\n",
       "    .dataframe thead th {\n",
       "        text-align: right;\n",
       "    }\n",
       "</style>\n",
       "<table border=\"1\" class=\"dataframe\">\n",
       "  <thead>\n",
       "    <tr style=\"text-align: right;\">\n",
       "      <th></th>\n",
       "      <th>Date received</th>\n",
       "      <th>Date sent to company</th>\n",
       "      <th>Submitted via</th>\n",
       "    </tr>\n",
       "  </thead>\n",
       "  <tbody>\n",
       "    <tr>\n",
       "      <th>0</th>\n",
       "      <td>2018-04-19</td>\n",
       "      <td>2018-04-19</td>\n",
       "      <td>Web</td>\n",
       "    </tr>\n",
       "    <tr>\n",
       "      <th>1</th>\n",
       "      <td>2019-02-12</td>\n",
       "      <td>2019-02-12</td>\n",
       "      <td>Web</td>\n",
       "    </tr>\n",
       "    <tr>\n",
       "      <th>2</th>\n",
       "      <td>2018-04-12</td>\n",
       "      <td>2018-04-12</td>\n",
       "      <td>Web</td>\n",
       "    </tr>\n",
       "    <tr>\n",
       "      <th>3</th>\n",
       "      <td>2018-04-18</td>\n",
       "      <td>2018-04-18</td>\n",
       "      <td>Web</td>\n",
       "    </tr>\n",
       "    <tr>\n",
       "      <th>4</th>\n",
       "      <td>2018-04-28</td>\n",
       "      <td>2018-04-28</td>\n",
       "      <td>Web</td>\n",
       "    </tr>\n",
       "  </tbody>\n",
       "</table>\n",
       "</div>"
      ],
      "text/plain": [
       "  Date received Date sent to company Submitted via\n",
       "0    2018-04-19           2018-04-19           Web\n",
       "1    2019-02-12           2019-02-12           Web\n",
       "2    2018-04-12           2018-04-12           Web\n",
       "3    2018-04-18           2018-04-18           Web\n",
       "4    2018-04-28           2018-04-28           Web"
      ]
     },
     "execution_count": 74,
     "metadata": {},
     "output_type": "execute_result"
    }
   ],
   "source": [
    "df4 = df[['Date received','Date sent to company','Submitted via']]\n",
    "df4.head()"
   ]
  },
  {
   "cell_type": "code",
   "execution_count": 75,
   "metadata": {},
   "outputs": [
    {
     "data": {
      "text/plain": [
       "Web            141343\n",
       "Referral        23833\n",
       "Phone           17039\n",
       "Postal mail      7303\n",
       "Fax              1558\n",
       "Email              20\n",
       "Name: Submitted via, dtype: int64"
      ]
     },
     "execution_count": 75,
     "metadata": {},
     "output_type": "execute_result"
    }
   ],
   "source": [
    "df4[\"Submitted via\"].value_counts()"
   ]
  },
  {
   "cell_type": "code",
   "execution_count": 76,
   "metadata": {},
   "outputs": [
    {
     "data": {
      "text/html": [
       "<div>\n",
       "<style scoped>\n",
       "    .dataframe tbody tr th:only-of-type {\n",
       "        vertical-align: middle;\n",
       "    }\n",
       "\n",
       "    .dataframe tbody tr th {\n",
       "        vertical-align: top;\n",
       "    }\n",
       "\n",
       "    .dataframe thead th {\n",
       "        text-align: right;\n",
       "    }\n",
       "</style>\n",
       "<table border=\"1\" class=\"dataframe\">\n",
       "  <thead>\n",
       "    <tr style=\"text-align: right;\">\n",
       "      <th></th>\n",
       "      <th>Date received</th>\n",
       "      <th>Date sent to company</th>\n",
       "      <th>Submitted via</th>\n",
       "    </tr>\n",
       "  </thead>\n",
       "  <tbody>\n",
       "    <tr>\n",
       "      <th>11</th>\n",
       "      <td>2018-04-27</td>\n",
       "      <td>2018-04-27</td>\n",
       "      <td>Phone</td>\n",
       "    </tr>\n",
       "    <tr>\n",
       "      <th>18</th>\n",
       "      <td>2019-03-12</td>\n",
       "      <td>2019-03-12</td>\n",
       "      <td>Phone</td>\n",
       "    </tr>\n",
       "    <tr>\n",
       "      <th>19</th>\n",
       "      <td>2018-04-26</td>\n",
       "      <td>2018-04-27</td>\n",
       "      <td>Phone</td>\n",
       "    </tr>\n",
       "    <tr>\n",
       "      <th>26</th>\n",
       "      <td>2018-05-23</td>\n",
       "      <td>2018-05-23</td>\n",
       "      <td>Phone</td>\n",
       "    </tr>\n",
       "    <tr>\n",
       "      <th>38</th>\n",
       "      <td>2017-11-16</td>\n",
       "      <td>2017-11-16</td>\n",
       "      <td>Phone</td>\n",
       "    </tr>\n",
       "    <tr>\n",
       "      <th>...</th>\n",
       "      <td>...</td>\n",
       "      <td>...</td>\n",
       "      <td>...</td>\n",
       "    </tr>\n",
       "    <tr>\n",
       "      <th>191079</th>\n",
       "      <td>2018-12-20</td>\n",
       "      <td>2018-12-26</td>\n",
       "      <td>Phone</td>\n",
       "    </tr>\n",
       "    <tr>\n",
       "      <th>191085</th>\n",
       "      <td>2018-10-16</td>\n",
       "      <td>2018-10-16</td>\n",
       "      <td>Phone</td>\n",
       "    </tr>\n",
       "    <tr>\n",
       "      <th>191086</th>\n",
       "      <td>2019-01-16</td>\n",
       "      <td>2019-01-16</td>\n",
       "      <td>Phone</td>\n",
       "    </tr>\n",
       "    <tr>\n",
       "      <th>191091</th>\n",
       "      <td>2018-11-30</td>\n",
       "      <td>2018-12-12</td>\n",
       "      <td>Phone</td>\n",
       "    </tr>\n",
       "    <tr>\n",
       "      <th>191093</th>\n",
       "      <td>2019-02-14</td>\n",
       "      <td>2019-02-14</td>\n",
       "      <td>Phone</td>\n",
       "    </tr>\n",
       "  </tbody>\n",
       "</table>\n",
       "<p>17039 rows × 3 columns</p>\n",
       "</div>"
      ],
      "text/plain": [
       "       Date received Date sent to company Submitted via\n",
       "11        2018-04-27           2018-04-27         Phone\n",
       "18        2019-03-12           2019-03-12         Phone\n",
       "19        2018-04-26           2018-04-27         Phone\n",
       "26        2018-05-23           2018-05-23         Phone\n",
       "38        2017-11-16           2017-11-16         Phone\n",
       "...              ...                  ...           ...\n",
       "191079    2018-12-20           2018-12-26         Phone\n",
       "191085    2018-10-16           2018-10-16         Phone\n",
       "191086    2019-01-16           2019-01-16         Phone\n",
       "191091    2018-11-30           2018-12-12         Phone\n",
       "191093    2019-02-14           2019-02-14         Phone\n",
       "\n",
       "[17039 rows x 3 columns]"
      ]
     },
     "execution_count": 76,
     "metadata": {},
     "output_type": "execute_result"
    }
   ],
   "source": [
    "df5 = df4[df4[\"Submitted via\"] == \"Phone\"]\n",
    "df5"
   ]
  },
  {
   "cell_type": "code",
   "execution_count": 77,
   "metadata": {},
   "outputs": [],
   "source": [
    "df5[\"TimeDiff\"] = df5[\"Date sent to company\"] - df5[\"Date received\"]"
   ]
  },
  {
   "cell_type": "code",
   "execution_count": 78,
   "metadata": {},
   "outputs": [
    {
     "data": {
      "text/html": [
       "<div>\n",
       "<style scoped>\n",
       "    .dataframe tbody tr th:only-of-type {\n",
       "        vertical-align: middle;\n",
       "    }\n",
       "\n",
       "    .dataframe tbody tr th {\n",
       "        vertical-align: top;\n",
       "    }\n",
       "\n",
       "    .dataframe thead th {\n",
       "        text-align: right;\n",
       "    }\n",
       "</style>\n",
       "<table border=\"1\" class=\"dataframe\">\n",
       "  <thead>\n",
       "    <tr style=\"text-align: right;\">\n",
       "      <th></th>\n",
       "      <th>Date received</th>\n",
       "      <th>Date sent to company</th>\n",
       "      <th>Submitted via</th>\n",
       "      <th>TimeDiff</th>\n",
       "    </tr>\n",
       "  </thead>\n",
       "  <tbody>\n",
       "    <tr>\n",
       "      <th>11</th>\n",
       "      <td>2018-04-27</td>\n",
       "      <td>2018-04-27</td>\n",
       "      <td>Phone</td>\n",
       "      <td>0 days</td>\n",
       "    </tr>\n",
       "    <tr>\n",
       "      <th>18</th>\n",
       "      <td>2019-03-12</td>\n",
       "      <td>2019-03-12</td>\n",
       "      <td>Phone</td>\n",
       "      <td>0 days</td>\n",
       "    </tr>\n",
       "    <tr>\n",
       "      <th>19</th>\n",
       "      <td>2018-04-26</td>\n",
       "      <td>2018-04-27</td>\n",
       "      <td>Phone</td>\n",
       "      <td>1 days</td>\n",
       "    </tr>\n",
       "    <tr>\n",
       "      <th>26</th>\n",
       "      <td>2018-05-23</td>\n",
       "      <td>2018-05-23</td>\n",
       "      <td>Phone</td>\n",
       "      <td>0 days</td>\n",
       "    </tr>\n",
       "    <tr>\n",
       "      <th>38</th>\n",
       "      <td>2017-11-16</td>\n",
       "      <td>2017-11-16</td>\n",
       "      <td>Phone</td>\n",
       "      <td>0 days</td>\n",
       "    </tr>\n",
       "    <tr>\n",
       "      <th>...</th>\n",
       "      <td>...</td>\n",
       "      <td>...</td>\n",
       "      <td>...</td>\n",
       "      <td>...</td>\n",
       "    </tr>\n",
       "    <tr>\n",
       "      <th>191079</th>\n",
       "      <td>2018-12-20</td>\n",
       "      <td>2018-12-26</td>\n",
       "      <td>Phone</td>\n",
       "      <td>6 days</td>\n",
       "    </tr>\n",
       "    <tr>\n",
       "      <th>191085</th>\n",
       "      <td>2018-10-16</td>\n",
       "      <td>2018-10-16</td>\n",
       "      <td>Phone</td>\n",
       "      <td>0 days</td>\n",
       "    </tr>\n",
       "    <tr>\n",
       "      <th>191086</th>\n",
       "      <td>2019-01-16</td>\n",
       "      <td>2019-01-16</td>\n",
       "      <td>Phone</td>\n",
       "      <td>0 days</td>\n",
       "    </tr>\n",
       "    <tr>\n",
       "      <th>191091</th>\n",
       "      <td>2018-11-30</td>\n",
       "      <td>2018-12-12</td>\n",
       "      <td>Phone</td>\n",
       "      <td>12 days</td>\n",
       "    </tr>\n",
       "    <tr>\n",
       "      <th>191093</th>\n",
       "      <td>2019-02-14</td>\n",
       "      <td>2019-02-14</td>\n",
       "      <td>Phone</td>\n",
       "      <td>0 days</td>\n",
       "    </tr>\n",
       "  </tbody>\n",
       "</table>\n",
       "<p>17039 rows × 4 columns</p>\n",
       "</div>"
      ],
      "text/plain": [
       "       Date received Date sent to company Submitted via TimeDiff\n",
       "11        2018-04-27           2018-04-27         Phone   0 days\n",
       "18        2019-03-12           2019-03-12         Phone   0 days\n",
       "19        2018-04-26           2018-04-27         Phone   1 days\n",
       "26        2018-05-23           2018-05-23         Phone   0 days\n",
       "38        2017-11-16           2017-11-16         Phone   0 days\n",
       "...              ...                  ...           ...      ...\n",
       "191079    2018-12-20           2018-12-26         Phone   6 days\n",
       "191085    2018-10-16           2018-10-16         Phone   0 days\n",
       "191086    2019-01-16           2019-01-16         Phone   0 days\n",
       "191091    2018-11-30           2018-12-12         Phone  12 days\n",
       "191093    2019-02-14           2019-02-14         Phone   0 days\n",
       "\n",
       "[17039 rows x 4 columns]"
      ]
     },
     "execution_count": 78,
     "metadata": {},
     "output_type": "execute_result"
    }
   ],
   "source": [
    "df5"
   ]
  },
  {
   "cell_type": "code",
   "execution_count": 79,
   "metadata": {},
   "outputs": [
    {
     "name": "stdout",
     "output_type": "stream",
     "text": [
      "<class 'pandas.core.frame.DataFrame'>\n",
      "Int64Index: 17039 entries, 11 to 191093\n",
      "Data columns (total 4 columns):\n",
      " #   Column                Non-Null Count  Dtype          \n",
      "---  ------                --------------  -----          \n",
      " 0   Date received         17039 non-null  datetime64[ns] \n",
      " 1   Date sent to company  17039 non-null  datetime64[ns] \n",
      " 2   Submitted via         17039 non-null  object         \n",
      " 3   TimeDiff              17039 non-null  timedelta64[ns]\n",
      "dtypes: datetime64[ns](2), object(1), timedelta64[ns](1)\n",
      "memory usage: 665.6+ KB\n"
     ]
    }
   ],
   "source": [
    "df5.info()"
   ]
  },
  {
   "cell_type": "code",
   "execution_count": 80,
   "metadata": {},
   "outputs": [
    {
     "data": {
      "text/plain": [
       "Timedelta('43812 days 00:00:00')"
      ]
     },
     "execution_count": 80,
     "metadata": {},
     "output_type": "execute_result"
    }
   ],
   "source": [
    "df5[\"TimeDiff\"].sum()"
   ]
  },
  {
   "cell_type": "code",
   "execution_count": 81,
   "metadata": {},
   "outputs": [
    {
     "data": {
      "text/plain": [
       "2.5712776571395035"
      ]
     },
     "execution_count": 81,
     "metadata": {},
     "output_type": "execute_result"
    }
   ],
   "source": [
    "43812/17039"
   ]
  },
  {
   "cell_type": "markdown",
   "metadata": {},
   "source": [
    "Consider all Vehicle loan or lease complaint.  \n",
    "\n",
    "How many times does the string \"student\" appear in the string of text in the `Consumer complaint narrative` column? "
   ]
  },
  {
   "cell_type": "code",
   "execution_count": 82,
   "metadata": {},
   "outputs": [
    {
     "data": {
      "text/html": [
       "<div>\n",
       "<style scoped>\n",
       "    .dataframe tbody tr th:only-of-type {\n",
       "        vertical-align: middle;\n",
       "    }\n",
       "\n",
       "    .dataframe tbody tr th {\n",
       "        vertical-align: top;\n",
       "    }\n",
       "\n",
       "    .dataframe thead th {\n",
       "        text-align: right;\n",
       "    }\n",
       "</style>\n",
       "<table border=\"1\" class=\"dataframe\">\n",
       "  <thead>\n",
       "    <tr style=\"text-align: right;\">\n",
       "      <th></th>\n",
       "      <th>Date received</th>\n",
       "      <th>Product</th>\n",
       "      <th>Sub-product</th>\n",
       "      <th>Issue</th>\n",
       "      <th>Sub-issue</th>\n",
       "      <th>Consumer complaint narrative</th>\n",
       "      <th>Company public response</th>\n",
       "      <th>Company</th>\n",
       "      <th>State</th>\n",
       "      <th>ZIP code</th>\n",
       "      <th>Tags</th>\n",
       "      <th>Consumer consent provided?</th>\n",
       "      <th>Submitted via</th>\n",
       "      <th>Date sent to company</th>\n",
       "      <th>Company response to consumer</th>\n",
       "      <th>Timely response?</th>\n",
       "      <th>Consumer disputed?</th>\n",
       "      <th>Complaint ID</th>\n",
       "    </tr>\n",
       "  </thead>\n",
       "  <tbody>\n",
       "    <tr>\n",
       "      <th>0</th>\n",
       "      <td>2018-04-19</td>\n",
       "      <td>Credit card or prepaid card</td>\n",
       "      <td>General-purpose credit card or charge card</td>\n",
       "      <td>Closing your account</td>\n",
       "      <td>Can't close your account</td>\n",
       "      <td>NaN</td>\n",
       "      <td>Company has responded to the consumer and the CFPB and chooses not to provide a public response</td>\n",
       "      <td>CITIBANK, N.A.</td>\n",
       "      <td>AL</td>\n",
       "      <td>361XX</td>\n",
       "      <td>None</td>\n",
       "      <td>Consent not provided</td>\n",
       "      <td>Web</td>\n",
       "      <td>2018-04-19</td>\n",
       "      <td>Closed with explanation</td>\n",
       "      <td>Yes</td>\n",
       "      <td>NaN</td>\n",
       "      <td>2880655</td>\n",
       "    </tr>\n",
       "  </tbody>\n",
       "</table>\n",
       "</div>"
      ],
      "text/plain": [
       "  Date received                      Product                                 Sub-product                 Issue                 Sub-issue Consumer complaint narrative                                                                          Company public response         Company State ZIP code  Tags Consumer consent provided? Submitted via Date sent to company Company response to consumer Timely response?  Consumer disputed?  Complaint ID\n",
       "0    2018-04-19  Credit card or prepaid card  General-purpose credit card or charge card  Closing your account  Can't close your account                          NaN  Company has responded to the consumer and the CFPB and chooses not to provide a public response  CITIBANK, N.A.    AL    361XX  None       Consent not provided           Web           2018-04-19      Closed with explanation              Yes                 NaN       2880655"
      ]
     },
     "execution_count": 82,
     "metadata": {},
     "output_type": "execute_result"
    }
   ],
   "source": [
    "df.head(1)"
   ]
  },
  {
   "cell_type": "code",
   "execution_count": 83,
   "metadata": {},
   "outputs": [
    {
     "data": {
      "text/plain": [
       "Date received                        0\n",
       "Product                              0\n",
       "Sub-product                          0\n",
       "Issue                                0\n",
       "Sub-issue                            0\n",
       "Consumer complaint narrative    100121\n",
       "Company public response              0\n",
       "Company                              0\n",
       "State                                0\n",
       "ZIP code                             0\n",
       "Tags                                 0\n",
       "Consumer consent provided?       49753\n",
       "Submitted via                        0\n",
       "Date sent to company                 0\n",
       "Company response to consumer         0\n",
       "Timely response?                     0\n",
       "Consumer disputed?              191096\n",
       "Complaint ID                         0\n",
       "dtype: int64"
      ]
     },
     "execution_count": 83,
     "metadata": {},
     "output_type": "execute_result"
    }
   ],
   "source": [
    "df.isnull().sum()"
   ]
  },
  {
   "cell_type": "code",
   "execution_count": 84,
   "metadata": {},
   "outputs": [
    {
     "data": {
      "text/plain": [
       "(191096, 18)"
      ]
     },
     "execution_count": 84,
     "metadata": {},
     "output_type": "execute_result"
    }
   ],
   "source": [
    "df.shape"
   ]
  },
  {
   "cell_type": "code",
   "execution_count": 85,
   "metadata": {},
   "outputs": [],
   "source": [
    "df_q3 = df[[\"Product\",\"Consumer complaint narrative\"]]"
   ]
  },
  {
   "cell_type": "code",
   "execution_count": 86,
   "metadata": {},
   "outputs": [
    {
     "data": {
      "text/html": [
       "<div>\n",
       "<style scoped>\n",
       "    .dataframe tbody tr th:only-of-type {\n",
       "        vertical-align: middle;\n",
       "    }\n",
       "\n",
       "    .dataframe tbody tr th {\n",
       "        vertical-align: top;\n",
       "    }\n",
       "\n",
       "    .dataframe thead th {\n",
       "        text-align: right;\n",
       "    }\n",
       "</style>\n",
       "<table border=\"1\" class=\"dataframe\">\n",
       "  <thead>\n",
       "    <tr style=\"text-align: right;\">\n",
       "      <th></th>\n",
       "      <th>Product</th>\n",
       "      <th>Consumer complaint narrative</th>\n",
       "    </tr>\n",
       "  </thead>\n",
       "  <tbody>\n",
       "    <tr>\n",
       "      <th>0</th>\n",
       "      <td>Credit card or prepaid card</td>\n",
       "      <td>NaN</td>\n",
       "    </tr>\n",
       "    <tr>\n",
       "      <th>1</th>\n",
       "      <td>Credit card or prepaid card</td>\n",
       "      <td>I initially in writing to Chase Bank in late XXXX about a charge that was unauthorized on XXXX from XXXX in the amount of {$790.00} after many letters and complaints they still did not do anything yet in XXXX they closed my original account and reissued a new account and sent me a letter indicating they moved this charge to fraud and it would be immediately credited however they have failed to do that and almost 8 months later it is still on my statement and I'm getting charged interest. Even after this I still use my card and PAY for my charges and have never been late however I will not pay for a charge I didn't make and refuse and Chase refuses to do anything even after many attempts and letters they write stating so. I feel this is last step before I begin a case in XXXX XXXX XXXX XXXX against them</td>\n",
       "    </tr>\n",
       "    <tr>\n",
       "      <th>2</th>\n",
       "      <td>Mortgage</td>\n",
       "      <td>My ex husband and myself had a mobile home ( Home Mortgage ) with XXXX XXXX back in XX/XX/XXXX. I went through a horrible divorce as my husband was using drugs and failing to pay the bills which led to my having to divorce him. The Mortgage was in both of our names. We only had the Mortgage for one year and they got the trailer bc of being unable to pay debt. I was not working at the time as I had just given birth to my first child in XX/XX/XXXX ( she is now XXXX of age ) as this happened years ago. \\n\\nNow after 21 years, XXXX XXXX XXXX XXXX  filled a XXXX XXXX to the IRS and the IRS alerted me which caused me an adverse affect on my IRS taxes. \\nI received a l letter from the IRS XX/XX/XXXX which stated that due to DITECH Mortgage sending a XXXX with taxable income of {$17000.00}, this could cause me to have to owe the IRS {$2900.00}. IRS Told me to contact DITECH Financial to dispute this and request that DITECH Mortgage rescind the XXXX in order ( so it is not XXXX, XXXX taxabl...</td>\n",
       "    </tr>\n",
       "    <tr>\n",
       "      <th>3</th>\n",
       "      <td>Student loan</td>\n",
       "      <td>I was a student at XXXX XXXX from XX/XX/XXXX-XX/XX/XXXX. I accumulated XXXX of debt in student loans. This school flat out lied to me. I was under the assumption it would have been less than half of that since I had a lot of credits that transferred, not to mention this school promised me job placement, which they did not! They told me I would be making a lot more than what I do. They gave me false information. The only thing this school did for me is put me in tons of debt and lied to me. I am a single mother of XXXX  and was so excited to get my degree. Until I graduated and realize how much they lied to me. The school is now shut down. Can I get these loans forgiven due to being lied to and given false information that basically pressured me into enrolling. If I would have known that my student loans would have been this high. I would have just stayed at the XXXX college where I did my prerequisites. I feel like I fool that XXXX had done this to me.</td>\n",
       "    </tr>\n",
       "    <tr>\n",
       "      <th>4</th>\n",
       "      <td>Credit card or prepaid card</td>\n",
       "      <td>It has come to my attention the CITI group is actively attempting to interfere with rights guaranteed by the Constitution ( 2nd Amendment ) by manipulating or denying service to certain entities or transactions that are protected by the Constitution. I do not expect CITI group, or any other financial institution to be controlling the nation 's activities through such unpatriotic and un-American behavior. I do expect CITI group to tend to the business of their business and stay out of the business of social tyranny.</td>\n",
       "    </tr>\n",
       "    <tr>\n",
       "      <th>...</th>\n",
       "      <td>...</td>\n",
       "      <td>...</td>\n",
       "    </tr>\n",
       "    <tr>\n",
       "      <th>191091</th>\n",
       "      <td>Mortgage</td>\n",
       "      <td>NaN</td>\n",
       "    </tr>\n",
       "    <tr>\n",
       "      <th>191092</th>\n",
       "      <td>Mortgage</td>\n",
       "      <td>NaN</td>\n",
       "    </tr>\n",
       "    <tr>\n",
       "      <th>191093</th>\n",
       "      <td>Vehicle loan or lease</td>\n",
       "      <td>NaN</td>\n",
       "    </tr>\n",
       "    <tr>\n",
       "      <th>191094</th>\n",
       "      <td>Credit card or prepaid card</td>\n",
       "      <td>NaN</td>\n",
       "    </tr>\n",
       "    <tr>\n",
       "      <th>191095</th>\n",
       "      <td>Mortgage</td>\n",
       "      <td>NaN</td>\n",
       "    </tr>\n",
       "  </tbody>\n",
       "</table>\n",
       "<p>191096 rows × 2 columns</p>\n",
       "</div>"
      ],
      "text/plain": [
       "                            Product  \\\n",
       "0       Credit card or prepaid card   \n",
       "1       Credit card or prepaid card   \n",
       "2                          Mortgage   \n",
       "3                      Student loan   \n",
       "4       Credit card or prepaid card   \n",
       "...                             ...   \n",
       "191091                     Mortgage   \n",
       "191092                     Mortgage   \n",
       "191093        Vehicle loan or lease   \n",
       "191094  Credit card or prepaid card   \n",
       "191095                     Mortgage   \n",
       "\n",
       "                                                                                                                                                                                                                                                                                                                                                                                                                                                                                                                                                                                                                                                                                                                                                                                                                                                                                                                                                                                                                   Consumer complaint narrative  \n",
       "0                                                                                                                                                                                                                                                                                                                                                                                                                                                                                                                                                                                                                                                                                                                                                                                                                                                                                                                                                                                                                                           NaN  \n",
       "1                                                                                                                                                                                                 I initially in writing to Chase Bank in late XXXX about a charge that was unauthorized on XXXX from XXXX in the amount of {$790.00} after many letters and complaints they still did not do anything yet in XXXX they closed my original account and reissued a new account and sent me a letter indicating they moved this charge to fraud and it would be immediately credited however they have failed to do that and almost 8 months later it is still on my statement and I'm getting charged interest. Even after this I still use my card and PAY for my charges and have never been late however I will not pay for a charge I didn't make and refuse and Chase refuses to do anything even after many attempts and letters they write stating so. I feel this is last step before I begin a case in XXXX XXXX XXXX XXXX against them  \n",
       "2       My ex husband and myself had a mobile home ( Home Mortgage ) with XXXX XXXX back in XX/XX/XXXX. I went through a horrible divorce as my husband was using drugs and failing to pay the bills which led to my having to divorce him. The Mortgage was in both of our names. We only had the Mortgage for one year and they got the trailer bc of being unable to pay debt. I was not working at the time as I had just given birth to my first child in XX/XX/XXXX ( she is now XXXX of age ) as this happened years ago. \\n\\nNow after 21 years, XXXX XXXX XXXX XXXX  filled a XXXX XXXX to the IRS and the IRS alerted me which caused me an adverse affect on my IRS taxes. \\nI received a l letter from the IRS XX/XX/XXXX which stated that due to DITECH Mortgage sending a XXXX with taxable income of {$17000.00}, this could cause me to have to owe the IRS {$2900.00}. IRS Told me to contact DITECH Financial to dispute this and request that DITECH Mortgage rescind the XXXX in order ( so it is not XXXX, XXXX taxabl...  \n",
       "3                                        I was a student at XXXX XXXX from XX/XX/XXXX-XX/XX/XXXX. I accumulated XXXX of debt in student loans. This school flat out lied to me. I was under the assumption it would have been less than half of that since I had a lot of credits that transferred, not to mention this school promised me job placement, which they did not! They told me I would be making a lot more than what I do. They gave me false information. The only thing this school did for me is put me in tons of debt and lied to me. I am a single mother of XXXX  and was so excited to get my degree. Until I graduated and realize how much they lied to me. The school is now shut down. Can I get these loans forgiven due to being lied to and given false information that basically pressured me into enrolling. If I would have known that my student loans would have been this high. I would have just stayed at the XXXX college where I did my prerequisites. I feel like I fool that XXXX had done this to me.  \n",
       "4                                                                                                                                                                                                                                                                                                                                                                                                                                                                                                      It has come to my attention the CITI group is actively attempting to interfere with rights guaranteed by the Constitution ( 2nd Amendment ) by manipulating or denying service to certain entities or transactions that are protected by the Constitution. I do not expect CITI group, or any other financial institution to be controlling the nation 's activities through such unpatriotic and un-American behavior. I do expect CITI group to tend to the business of their business and stay out of the business of social tyranny.  \n",
       "...                                                                                                                                                                                                                                                                                                                                                                                                                                                                                                                                                                                                                                                                                                                                                                                                                                                                                                                                                                                                                                         ...  \n",
       "191091                                                                                                                                                                                                                                                                                                                                                                                                                                                                                                                                                                                                                                                                                                                                                                                                                                                                                                                                                                                                                                      NaN  \n",
       "191092                                                                                                                                                                                                                                                                                                                                                                                                                                                                                                                                                                                                                                                                                                                                                                                                                                                                                                                                                                                                                                      NaN  \n",
       "191093                                                                                                                                                                                                                                                                                                                                                                                                                                                                                                                                                                                                                                                                                                                                                                                                                                                                                                                                                                                                                                      NaN  \n",
       "191094                                                                                                                                                                                                                                                                                                                                                                                                                                                                                                                                                                                                                                                                                                                                                                                                                                                                                                                                                                                                                                      NaN  \n",
       "191095                                                                                                                                                                                                                                                                                                                                                                                                                                                                                                                                                                                                                                                                                                                                                                                                                                                                                                                                                                                                                                      NaN  \n",
       "\n",
       "[191096 rows x 2 columns]"
      ]
     },
     "execution_count": 86,
     "metadata": {},
     "output_type": "execute_result"
    }
   ],
   "source": [
    "df_q3"
   ]
  },
  {
   "cell_type": "code",
   "execution_count": 87,
   "metadata": {},
   "outputs": [],
   "source": [
    "df_q3.dropna(inplace=True, axis=0)"
   ]
  },
  {
   "cell_type": "code",
   "execution_count": 88,
   "metadata": {},
   "outputs": [
    {
     "data": {
      "text/plain": [
       "Product                         0\n",
       "Consumer complaint narrative    0\n",
       "dtype: int64"
      ]
     },
     "execution_count": 88,
     "metadata": {},
     "output_type": "execute_result"
    }
   ],
   "source": [
    "df_q3.isnull().sum()"
   ]
  },
  {
   "cell_type": "code",
   "execution_count": 89,
   "metadata": {},
   "outputs": [
    {
     "data": {
      "text/html": [
       "<div>\n",
       "<style scoped>\n",
       "    .dataframe tbody tr th:only-of-type {\n",
       "        vertical-align: middle;\n",
       "    }\n",
       "\n",
       "    .dataframe tbody tr th {\n",
       "        vertical-align: top;\n",
       "    }\n",
       "\n",
       "    .dataframe thead th {\n",
       "        text-align: right;\n",
       "    }\n",
       "</style>\n",
       "<table border=\"1\" class=\"dataframe\">\n",
       "  <thead>\n",
       "    <tr style=\"text-align: right;\">\n",
       "      <th></th>\n",
       "      <th>Product</th>\n",
       "      <th>Consumer complaint narrative</th>\n",
       "    </tr>\n",
       "  </thead>\n",
       "  <tbody>\n",
       "    <tr>\n",
       "      <th>1</th>\n",
       "      <td>Credit card or prepaid card</td>\n",
       "      <td>I initially in writing to Chase Bank in late XXXX about a charge that was unauthorized on XXXX from XXXX in the amount of {$790.00} after many letters and complaints they still did not do anything yet in XXXX they closed my original account and reissued a new account and sent me a letter indicating they moved this charge to fraud and it would be immediately credited however they have failed to do that and almost 8 months later it is still on my statement and I'm getting charged interest. Even after this I still use my card and PAY for my charges and have never been late however I will not pay for a charge I didn't make and refuse and Chase refuses to do anything even after many attempts and letters they write stating so. I feel this is last step before I begin a case in XXXX XXXX XXXX XXXX against them</td>\n",
       "    </tr>\n",
       "    <tr>\n",
       "      <th>2</th>\n",
       "      <td>Mortgage</td>\n",
       "      <td>My ex husband and myself had a mobile home ( Home Mortgage ) with XXXX XXXX back in XX/XX/XXXX. I went through a horrible divorce as my husband was using drugs and failing to pay the bills which led to my having to divorce him. The Mortgage was in both of our names. We only had the Mortgage for one year and they got the trailer bc of being unable to pay debt. I was not working at the time as I had just given birth to my first child in XX/XX/XXXX ( she is now XXXX of age ) as this happened years ago. \\n\\nNow after 21 years, XXXX XXXX XXXX XXXX  filled a XXXX XXXX to the IRS and the IRS alerted me which caused me an adverse affect on my IRS taxes. \\nI received a l letter from the IRS XX/XX/XXXX which stated that due to DITECH Mortgage sending a XXXX with taxable income of {$17000.00}, this could cause me to have to owe the IRS {$2900.00}. IRS Told me to contact DITECH Financial to dispute this and request that DITECH Mortgage rescind the XXXX in order ( so it is not XXXX, XXXX taxabl...</td>\n",
       "    </tr>\n",
       "    <tr>\n",
       "      <th>3</th>\n",
       "      <td>Student loan</td>\n",
       "      <td>I was a student at XXXX XXXX from XX/XX/XXXX-XX/XX/XXXX. I accumulated XXXX of debt in student loans. This school flat out lied to me. I was under the assumption it would have been less than half of that since I had a lot of credits that transferred, not to mention this school promised me job placement, which they did not! They told me I would be making a lot more than what I do. They gave me false information. The only thing this school did for me is put me in tons of debt and lied to me. I am a single mother of XXXX  and was so excited to get my degree. Until I graduated and realize how much they lied to me. The school is now shut down. Can I get these loans forgiven due to being lied to and given false information that basically pressured me into enrolling. If I would have known that my student loans would have been this high. I would have just stayed at the XXXX college where I did my prerequisites. I feel like I fool that XXXX had done this to me.</td>\n",
       "    </tr>\n",
       "    <tr>\n",
       "      <th>4</th>\n",
       "      <td>Credit card or prepaid card</td>\n",
       "      <td>It has come to my attention the CITI group is actively attempting to interfere with rights guaranteed by the Constitution ( 2nd Amendment ) by manipulating or denying service to certain entities or transactions that are protected by the Constitution. I do not expect CITI group, or any other financial institution to be controlling the nation 's activities through such unpatriotic and un-American behavior. I do expect CITI group to tend to the business of their business and stay out of the business of social tyranny.</td>\n",
       "    </tr>\n",
       "    <tr>\n",
       "      <th>6</th>\n",
       "      <td>Credit card or prepaid card</td>\n",
       "      <td>This banks new firearm policies run counter to laws and regulations passed by Congress, and they infringe and discriminate against an individuals Second Amendment rights. Such policies, should not be endorsed by our federal government, which instead should do business with companies that respect all of our constitutional rights, including the Second Amendment. Our federal government should take all necessary steps to review and terminate its contract with Citibank unless they rescind their guidelines.</td>\n",
       "    </tr>\n",
       "  </tbody>\n",
       "</table>\n",
       "</div>"
      ],
      "text/plain": [
       "                       Product  \\\n",
       "1  Credit card or prepaid card   \n",
       "2                     Mortgage   \n",
       "3                 Student loan   \n",
       "4  Credit card or prepaid card   \n",
       "6  Credit card or prepaid card   \n",
       "\n",
       "                                                                                                                                                                                                                                                                                                                                                                                                                                                                                                                                                                                                                                                                                                                                                                                                                                                                                                                                                                                                              Consumer complaint narrative  \n",
       "1                                                                                                                                                                                            I initially in writing to Chase Bank in late XXXX about a charge that was unauthorized on XXXX from XXXX in the amount of {$790.00} after many letters and complaints they still did not do anything yet in XXXX they closed my original account and reissued a new account and sent me a letter indicating they moved this charge to fraud and it would be immediately credited however they have failed to do that and almost 8 months later it is still on my statement and I'm getting charged interest. Even after this I still use my card and PAY for my charges and have never been late however I will not pay for a charge I didn't make and refuse and Chase refuses to do anything even after many attempts and letters they write stating so. I feel this is last step before I begin a case in XXXX XXXX XXXX XXXX against them  \n",
       "2  My ex husband and myself had a mobile home ( Home Mortgage ) with XXXX XXXX back in XX/XX/XXXX. I went through a horrible divorce as my husband was using drugs and failing to pay the bills which led to my having to divorce him. The Mortgage was in both of our names. We only had the Mortgage for one year and they got the trailer bc of being unable to pay debt. I was not working at the time as I had just given birth to my first child in XX/XX/XXXX ( she is now XXXX of age ) as this happened years ago. \\n\\nNow after 21 years, XXXX XXXX XXXX XXXX  filled a XXXX XXXX to the IRS and the IRS alerted me which caused me an adverse affect on my IRS taxes. \\nI received a l letter from the IRS XX/XX/XXXX which stated that due to DITECH Mortgage sending a XXXX with taxable income of {$17000.00}, this could cause me to have to owe the IRS {$2900.00}. IRS Told me to contact DITECH Financial to dispute this and request that DITECH Mortgage rescind the XXXX in order ( so it is not XXXX, XXXX taxabl...  \n",
       "3                                   I was a student at XXXX XXXX from XX/XX/XXXX-XX/XX/XXXX. I accumulated XXXX of debt in student loans. This school flat out lied to me. I was under the assumption it would have been less than half of that since I had a lot of credits that transferred, not to mention this school promised me job placement, which they did not! They told me I would be making a lot more than what I do. They gave me false information. The only thing this school did for me is put me in tons of debt and lied to me. I am a single mother of XXXX  and was so excited to get my degree. Until I graduated and realize how much they lied to me. The school is now shut down. Can I get these loans forgiven due to being lied to and given false information that basically pressured me into enrolling. If I would have known that my student loans would have been this high. I would have just stayed at the XXXX college where I did my prerequisites. I feel like I fool that XXXX had done this to me.  \n",
       "4                                                                                                                                                                                                                                                                                                                                                                                                                                                                                                 It has come to my attention the CITI group is actively attempting to interfere with rights guaranteed by the Constitution ( 2nd Amendment ) by manipulating or denying service to certain entities or transactions that are protected by the Constitution. I do not expect CITI group, or any other financial institution to be controlling the nation 's activities through such unpatriotic and un-American behavior. I do expect CITI group to tend to the business of their business and stay out of the business of social tyranny.  \n",
       "6                                                                                                                                                                                                                                                                                                                                                                                                                                                                                                               This banks new firearm policies run counter to laws and regulations passed by Congress, and they infringe and discriminate against an individuals Second Amendment rights. Such policies, should not be endorsed by our federal government, which instead should do business with companies that respect all of our constitutional rights, including the Second Amendment. Our federal government should take all necessary steps to review and terminate its contract with Citibank unless they rescind their guidelines.  "
      ]
     },
     "execution_count": 89,
     "metadata": {},
     "output_type": "execute_result"
    }
   ],
   "source": [
    "pd.set_option('max_colwidth', 1000)\n",
    "df_q3.head()"
   ]
  },
  {
   "cell_type": "code",
   "execution_count": 90,
   "metadata": {},
   "outputs": [
    {
     "data": {
      "text/plain": [
       "(90975, 2)"
      ]
     },
     "execution_count": 90,
     "metadata": {},
     "output_type": "execute_result"
    }
   ],
   "source": [
    "df_q3.shape"
   ]
  },
  {
   "cell_type": "code",
   "execution_count": 91,
   "metadata": {},
   "outputs": [
    {
     "data": {
      "text/html": [
       "<div>\n",
       "<style scoped>\n",
       "    .dataframe tbody tr th:only-of-type {\n",
       "        vertical-align: middle;\n",
       "    }\n",
       "\n",
       "    .dataframe tbody tr th {\n",
       "        vertical-align: top;\n",
       "    }\n",
       "\n",
       "    .dataframe thead th {\n",
       "        text-align: right;\n",
       "    }\n",
       "</style>\n",
       "<table border=\"1\" class=\"dataframe\">\n",
       "  <thead>\n",
       "    <tr style=\"text-align: right;\">\n",
       "      <th></th>\n",
       "      <th>Product</th>\n",
       "      <th>Consumer complaint narrative</th>\n",
       "    </tr>\n",
       "  </thead>\n",
       "  <tbody>\n",
       "    <tr>\n",
       "      <th>10</th>\n",
       "      <td>Vehicle loan or lease</td>\n",
       "      <td>Complaint : Charged {$10.00} Finance fee for making a principal Payment Account : XXXX Bank of America I mailed a {$300.00} check for to B of A for a principal only payment. On XX/XX/XXXX this payment was posted in three parts. A principal payment of {$250.00} ; a payment of {$50.00} of which {$40.00} was applied to principal and {$10.00} was a finance charge. The instruction stated principal only payment. My previous payment of {$440.00} posted on XX/XX/XXXX was the regular payment of P &amp; I. \\n\\n* XX/XX/XXXX contacted B of A by online bank secure message outlining the problem * XX/XX/XXXX received response to call them * XX/XX/XXXX responded that the problem was easy to fix, if they need to call they could call me * XX/XX/XXXX a  representative ( or stated so ) called me, identified himself as BofA, started to ask personal identifying information ( which I refused to answer as they called me ) and stated they could not help me if I did not provided personal information. I refused ...</td>\n",
       "    </tr>\n",
       "    <tr>\n",
       "      <th>14</th>\n",
       "      <td>Vehicle loan or lease</td>\n",
       "      <td>I began a vehicle loan with Credit Acceptance aroundXX/XX/XXXX. I have never missed or been late on a payment. At the start of my agreement, the dealership setup my account with Credit Acceptance for auto pay ; The dealer entered the incorrect account numbers. I called credit acceptance consistently for 1 week to find out why the money had not been withdrawn from my checking account. Once they advised that the payment was returned I paid immediately using my debit card. InXX/XX/XXXX Credit Acceptance upgraded their website with actual account holder information ( previously you could only make payments and it was done through XXXX XXXX  ). With their upgrade, when I went online to make my monthly payment, it shows my balance being almost {$1000.00}. I was shocked and outraged, when I called Credit Acceptance to inquire what was happening, the rep ( who was really nice ) advised me that my account has been reporting past due from the very first payment and that I have accumulated a ...</td>\n",
       "    </tr>\n",
       "    <tr>\n",
       "      <th>34</th>\n",
       "      <td>Vehicle loan or lease</td>\n",
       "      <td>This is the letter we just mailed to ALLY Financial. \\n\\nAs I am typing this letter as I am again on hold with your XXXX number. No one ever answers. This would be our 9th phone call with hold times over an hour. Last night we held for 40 minutes and it just hung up on us. \\n\\nThis letter is to dispute a bill of late charges that we have repeatedly called about and they need to be immediately removed from our bill. The entire reason we leased this car was to establish perfect credit as you can see by our payments have been on time if not early every single month since we drove out of the dealership. We have no idea why this {$31.00} charge is on our bill and is now totaling {$880.00}. \\n\\nWe have repeatedly asked your representatives to clarify the fees and specifically exactly the full payment amount is so we can pay it. They have refused to clarify these questions. We have asked to pay what they said a one time XXXX late fee which we didnt even know where that was coming from but...</td>\n",
       "    </tr>\n",
       "    <tr>\n",
       "      <th>147</th>\n",
       "      <td>Vehicle loan or lease</td>\n",
       "      <td>There were two issues that occurred with GM Financial. I have been in contact with a customer service representative on multiple occasions without being able to come to an agreement on this matter. To summarize, GM Financial arbitrarily changed the terms in my signed lease contract and increased the monthly payment more than what was agreed to, and subsequently did not notify me of the changes in payment terms. Please see below for more details. \\n\\nFirst, per the signed lease, I agreed to pay {$460.00} on XX/XX/XXXX, followed by 35 monthly payments of {$460.00} due by the XXXX of each month. GM Financial has been billing me over the agreed amount, {$460.00} since XX/XX/XXXX. Due to this, the balance of my account has been increasing by {$6.00} every month since XX/XX/XXXX. This is because I have been auto-paying the agreed to monthly payment of {$460.00}, while GM Financial has been charging me over the agreed to monthly payment. Please note I have not agreed to any changes in the...</td>\n",
       "    </tr>\n",
       "    <tr>\n",
       "      <th>169</th>\n",
       "      <td>Vehicle loan or lease</td>\n",
       "      <td>I surrendered my car two years ago because of hardship. I could not keep up with the payments..I really believe that the vehicle was way over priced. I needed it because the one i had prior from the same dealership had computer problems, that could not be remedied. So i needed another vehicle for work at that time. After getting the vehicle i looked at the \" blue book '' value and realized that i was charged {$15000.00} dollars more then the car was worth and payments almost {$500.00} a month + insurance. So when i could no longer work because of health issues. Which I relayed to the lender. And was put on a payment plan.I found myself struggling to survive. I am on XXXX now. I received a letter from XXXX XXXX XXXX with an offer to pay 25 % of the debt. I called and was told i would have to pay it off in 3 month. When i called back. I got another irate representative that told me that i could not pay what i had agreed on. I ask why,,, she demanded that i pay the whole amount. Becau...</td>\n",
       "    </tr>\n",
       "    <tr>\n",
       "      <th>...</th>\n",
       "      <td>...</td>\n",
       "      <td>...</td>\n",
       "    </tr>\n",
       "    <tr>\n",
       "      <th>190976</th>\n",
       "      <td>Vehicle loan or lease</td>\n",
       "      <td>XX/XX/2018 I entered into a deferment plan with finance company believing that it would bring current but, far from what has happened. This company excessive deceptive acts in applying fees and making it impossible to contact or reach them is horrific.I have request real time payments of account and cant get that info. According to my records i am current and showed an amount of credit. This company bills 30 day in advance and reports me late to Credit report agency sa being late every month. I am a online account holder who pays on line every month but they have now locked me out of my account due to excessive fees that no one can answer to. my online account will not allow me to process a monthly payment. its locks me into only paying the excessive amount onXXXX be paid so it will not take monthly payment of XXXX. Called spoke to supervisor forwarding info they requested and never heard back till i tried paying my bill today.</td>\n",
       "    </tr>\n",
       "    <tr>\n",
       "      <th>190986</th>\n",
       "      <td>Vehicle loan or lease</td>\n",
       "      <td>in XXXX of XXXX I purchased a XXXX XXXX XXXX, at the time they sold me an extended warranty which the contract said I can always cancel and get a refund if I don't make any claims against it. \\nI made several larger payments on the account and asked to have them applied to the principal. \\non XX/XX/XXXX I requested to cancel the extended warranty. I received an email from the dealer that said : \" Also, I just need to be sure that you are aware that if there is still a lienholder on the vehicle, the refund goes to them directly and not to the customer. The refund amount is applied to the principle of the loan. '' I contacted them via email a few times and mentioned that it was not applied to the principal. I received this email on XX/XX/XXXX : \" Ms. XXXX, Thank you for your reply. \\nWe can confirm that warranty refunds are paid in the form of a check and are applied directly to your principal balance '' It still didn't look right and I emailed a few times more. at first because they...</td>\n",
       "    </tr>\n",
       "    <tr>\n",
       "      <th>191009</th>\n",
       "      <td>Vehicle loan or lease</td>\n",
       "      <td>The vehicle was purchased on XX/XX/XXXX. On XX/XX/XXXX i received a call in regards to the late payment and after discussion with the agent, I decided to voluntarily surrender the car. I was given instruction on what steps to follow to do so. On XX/XX/XXXX, I forwarded the email as instructed to the loan representative. I continued to receive harassing phone calls and email from XXXX XXXX. On XX/XX/XXXX, i was informed I could not send a typed email and the request would need to written, in which I then wrote and attached a letter asking that the vehicle be picked up. I continued to receive harassing phone calls and emails during the month of XX/XX/XXXX into XX/XX/XXXX. The vehicle was picked up on XX/XX/XXXX. On XX/XX/XXXX, I received a certified letter stating the car was picked up due to the agreement being broken and it would be sold withing 21 days in which I would receive a letter regarding the balance. This has not happened. I filed a complaint with XXXX on XX/XX/XXXX in whi...</td>\n",
       "    </tr>\n",
       "    <tr>\n",
       "      <th>191010</th>\n",
       "      <td>Vehicle loan or lease</td>\n",
       "      <td>On XX/XX/2017 I leased from XXXX in Indiana, paid the down payment, in additional the shipping fee, with an understanding of delivery for the specific purpose of the leased motorcycle. As of XX/XX/2017, I haven't seen or been delivered the motorcycle, in other words I haven't taken delivery of the product. On XX/XX/2017 at XXXX XXXX. XXXX related a threat of action against me for cancellation of shipment not received, and cancellation of contractual obligation having not be consummated by mutual consideration, by threatening repossession, in order to have repossession, you first have to have possession. XXXX stated in email that the threat was by motolease, a motorcycle leasing company, and that motolease would repossess the motorcycle from the shipper, and thereby require that I pay for it, even though I have never taken possession. That's a threat they can't offer, because again, you can't repossess what hasn't been in ones possession. Additionally within the contract, XXXX as re...</td>\n",
       "    </tr>\n",
       "    <tr>\n",
       "      <th>191034</th>\n",
       "      <td>Vehicle loan or lease</td>\n",
       "      <td>I sent a letter to XXXX  in XXXX, with signature confirmation that was received on XX/XX/XXXX about a car they repossessed in XX/XX/XXXX. I was requesting paperwork under Louisiana 's ( R. S. 10 : 9-613, et seq. ) I also  requested a copy of the loan contract because my car loan was written up as a retail installment contact but it shows up as an auto loan. XXXX did not respond to my letter. To this date i have ONLY received the RIGHT TO CURE paperwork the same day as the repo. I was not notified of an auction nor was i notified when the car was sold and how much it was sold for. I have asked the 3 credit bureaus to delete this account because it is inaccurately reporting and invalid because XXXX has yet to furnish me with the documents i've requested. I have disputed this account SEVERAL times so pointing out the INACCURACIES now that the credit bureaus are stating is inaccurate should not mean they can update the account!!!</td>\n",
       "    </tr>\n",
       "  </tbody>\n",
       "</table>\n",
       "<p>9239 rows × 2 columns</p>\n",
       "</div>"
      ],
      "text/plain": [
       "                      Product  \\\n",
       "10      Vehicle loan or lease   \n",
       "14      Vehicle loan or lease   \n",
       "34      Vehicle loan or lease   \n",
       "147     Vehicle loan or lease   \n",
       "169     Vehicle loan or lease   \n",
       "...                       ...   \n",
       "190976  Vehicle loan or lease   \n",
       "190986  Vehicle loan or lease   \n",
       "191009  Vehicle loan or lease   \n",
       "191010  Vehicle loan or lease   \n",
       "191034  Vehicle loan or lease   \n",
       "\n",
       "                                                                                                                                                                                                                                                                                                                                                                                                                                                                                                                                                                                                                                                                                                                                                                                                                                                                                                                                                                                                                   Consumer complaint narrative  \n",
       "10      Complaint : Charged {$10.00} Finance fee for making a principal Payment Account : XXXX Bank of America I mailed a {$300.00} check for to B of A for a principal only payment. On XX/XX/XXXX this payment was posted in three parts. A principal payment of {$250.00} ; a payment of {$50.00} of which {$40.00} was applied to principal and {$10.00} was a finance charge. The instruction stated principal only payment. My previous payment of {$440.00} posted on XX/XX/XXXX was the regular payment of P & I. \\n\\n* XX/XX/XXXX contacted B of A by online bank secure message outlining the problem * XX/XX/XXXX received response to call them * XX/XX/XXXX responded that the problem was easy to fix, if they need to call they could call me * XX/XX/XXXX a  representative ( or stated so ) called me, identified himself as BofA, started to ask personal identifying information ( which I refused to answer as they called me ) and stated they could not help me if I did not provided personal information. I refused ...  \n",
       "14      I began a vehicle loan with Credit Acceptance aroundXX/XX/XXXX. I have never missed or been late on a payment. At the start of my agreement, the dealership setup my account with Credit Acceptance for auto pay ; The dealer entered the incorrect account numbers. I called credit acceptance consistently for 1 week to find out why the money had not been withdrawn from my checking account. Once they advised that the payment was returned I paid immediately using my debit card. InXX/XX/XXXX Credit Acceptance upgraded their website with actual account holder information ( previously you could only make payments and it was done through XXXX XXXX  ). With their upgrade, when I went online to make my monthly payment, it shows my balance being almost {$1000.00}. I was shocked and outraged, when I called Credit Acceptance to inquire what was happening, the rep ( who was really nice ) advised me that my account has been reporting past due from the very first payment and that I have accumulated a ...  \n",
       "34      This is the letter we just mailed to ALLY Financial. \\n\\nAs I am typing this letter as I am again on hold with your XXXX number. No one ever answers. This would be our 9th phone call with hold times over an hour. Last night we held for 40 minutes and it just hung up on us. \\n\\nThis letter is to dispute a bill of late charges that we have repeatedly called about and they need to be immediately removed from our bill. The entire reason we leased this car was to establish perfect credit as you can see by our payments have been on time if not early every single month since we drove out of the dealership. We have no idea why this {$31.00} charge is on our bill and is now totaling {$880.00}. \\n\\nWe have repeatedly asked your representatives to clarify the fees and specifically exactly the full payment amount is so we can pay it. They have refused to clarify these questions. We have asked to pay what they said a one time XXXX late fee which we didnt even know where that was coming from but...  \n",
       "147     There were two issues that occurred with GM Financial. I have been in contact with a customer service representative on multiple occasions without being able to come to an agreement on this matter. To summarize, GM Financial arbitrarily changed the terms in my signed lease contract and increased the monthly payment more than what was agreed to, and subsequently did not notify me of the changes in payment terms. Please see below for more details. \\n\\nFirst, per the signed lease, I agreed to pay {$460.00} on XX/XX/XXXX, followed by 35 monthly payments of {$460.00} due by the XXXX of each month. GM Financial has been billing me over the agreed amount, {$460.00} since XX/XX/XXXX. Due to this, the balance of my account has been increasing by {$6.00} every month since XX/XX/XXXX. This is because I have been auto-paying the agreed to monthly payment of {$460.00}, while GM Financial has been charging me over the agreed to monthly payment. Please note I have not agreed to any changes in the...  \n",
       "169     I surrendered my car two years ago because of hardship. I could not keep up with the payments..I really believe that the vehicle was way over priced. I needed it because the one i had prior from the same dealership had computer problems, that could not be remedied. So i needed another vehicle for work at that time. After getting the vehicle i looked at the \" blue book '' value and realized that i was charged {$15000.00} dollars more then the car was worth and payments almost {$500.00} a month + insurance. So when i could no longer work because of health issues. Which I relayed to the lender. And was put on a payment plan.I found myself struggling to survive. I am on XXXX now. I received a letter from XXXX XXXX XXXX with an offer to pay 25 % of the debt. I called and was told i would have to pay it off in 3 month. When i called back. I got another irate representative that told me that i could not pay what i had agreed on. I ask why,,, she demanded that i pay the whole amount. Becau...  \n",
       "...                                                                                                                                                                                                                                                                                                                                                                                                                                                                                                                                                                                                                                                                                                                                                                                                                                                                                                                                                                                                                                         ...  \n",
       "190976                                                            XX/XX/2018 I entered into a deferment plan with finance company believing that it would bring current but, far from what has happened. This company excessive deceptive acts in applying fees and making it impossible to contact or reach them is horrific.I have request real time payments of account and cant get that info. According to my records i am current and showed an amount of credit. This company bills 30 day in advance and reports me late to Credit report agency sa being late every month. I am a online account holder who pays on line every month but they have now locked me out of my account due to excessive fees that no one can answer to. my online account will not allow me to process a monthly payment. its locks me into only paying the excessive amount onXXXX be paid so it will not take monthly payment of XXXX. Called spoke to supervisor forwarding info they requested and never heard back till i tried paying my bill today.  \n",
       "190986  in XXXX of XXXX I purchased a XXXX XXXX XXXX, at the time they sold me an extended warranty which the contract said I can always cancel and get a refund if I don't make any claims against it. \\nI made several larger payments on the account and asked to have them applied to the principal. \\non XX/XX/XXXX I requested to cancel the extended warranty. I received an email from the dealer that said : \" Also, I just need to be sure that you are aware that if there is still a lienholder on the vehicle, the refund goes to them directly and not to the customer. The refund amount is applied to the principle of the loan. '' I contacted them via email a few times and mentioned that it was not applied to the principal. I received this email on XX/XX/XXXX : \" Ms. XXXX, Thank you for your reply. \\nWe can confirm that warranty refunds are paid in the form of a check and are applied directly to your principal balance '' It still didn't look right and I emailed a few times more. at first because they...  \n",
       "191009  The vehicle was purchased on XX/XX/XXXX. On XX/XX/XXXX i received a call in regards to the late payment and after discussion with the agent, I decided to voluntarily surrender the car. I was given instruction on what steps to follow to do so. On XX/XX/XXXX, I forwarded the email as instructed to the loan representative. I continued to receive harassing phone calls and email from XXXX XXXX. On XX/XX/XXXX, i was informed I could not send a typed email and the request would need to written, in which I then wrote and attached a letter asking that the vehicle be picked up. I continued to receive harassing phone calls and emails during the month of XX/XX/XXXX into XX/XX/XXXX. The vehicle was picked up on XX/XX/XXXX. On XX/XX/XXXX, I received a certified letter stating the car was picked up due to the agreement being broken and it would be sold withing 21 days in which I would receive a letter regarding the balance. This has not happened. I filed a complaint with XXXX on XX/XX/XXXX in whi...  \n",
       "191010  On XX/XX/2017 I leased from XXXX in Indiana, paid the down payment, in additional the shipping fee, with an understanding of delivery for the specific purpose of the leased motorcycle. As of XX/XX/2017, I haven't seen or been delivered the motorcycle, in other words I haven't taken delivery of the product. On XX/XX/2017 at XXXX XXXX. XXXX related a threat of action against me for cancellation of shipment not received, and cancellation of contractual obligation having not be consummated by mutual consideration, by threatening repossession, in order to have repossession, you first have to have possession. XXXX stated in email that the threat was by motolease, a motorcycle leasing company, and that motolease would repossess the motorcycle from the shipper, and thereby require that I pay for it, even though I have never taken possession. That's a threat they can't offer, because again, you can't repossess what hasn't been in ones possession. Additionally within the contract, XXXX as re...  \n",
       "191034                                                              I sent a letter to XXXX  in XXXX, with signature confirmation that was received on XX/XX/XXXX about a car they repossessed in XX/XX/XXXX. I was requesting paperwork under Louisiana 's ( R. S. 10 : 9-613, et seq. ) I also  requested a copy of the loan contract because my car loan was written up as a retail installment contact but it shows up as an auto loan. XXXX did not respond to my letter. To this date i have ONLY received the RIGHT TO CURE paperwork the same day as the repo. I was not notified of an auction nor was i notified when the car was sold and how much it was sold for. I have asked the 3 credit bureaus to delete this account because it is inaccurately reporting and invalid because XXXX has yet to furnish me with the documents i've requested. I have disputed this account SEVERAL times so pointing out the INACCURACIES now that the credit bureaus are stating is inaccurate should not mean they can update the account!!!  \n",
       "\n",
       "[9239 rows x 2 columns]"
      ]
     },
     "execution_count": 91,
     "metadata": {},
     "output_type": "execute_result"
    }
   ],
   "source": [
    "vehicle = df_q3[df_q3[\"Product\"] == \"Vehicle loan or lease\"]\n",
    "vehicle"
   ]
  },
  {
   "cell_type": "code",
   "execution_count": 123,
   "metadata": {},
   "outputs": [
    {
     "data": {
      "text/plain": [
       "40"
      ]
     },
     "execution_count": 123,
     "metadata": {},
     "output_type": "execute_result"
    }
   ],
   "source": [
    "vehicle[\"Consumer complaint narrative\"].str.contains(\"student\").sum()"
   ]
  },
  {
   "cell_type": "code",
   "execution_count": 124,
   "metadata": {},
   "outputs": [
    {
     "data": {
      "text/plain": [
       "2"
      ]
     },
     "execution_count": 124,
     "metadata": {},
     "output_type": "execute_result"
    }
   ],
   "source": [
    "vehicle[\"Consumer complaint narrative\"].str.contains(\"Student\").sum()"
   ]
  },
  {
   "cell_type": "markdown",
   "metadata": {},
   "source": [
    "Question 4\n",
    "\n",
    "Consider only Mortgage complaints. \n",
    "\n",
    "The `Issue` column contains a set of plain text categorical variables that the consumer identified in the complaint. For example, one type of issue is \"Trouble during payment process\" for Mortgage complaints.  \n",
    "\n",
    "For each `Issue`, calculate what is the average length of characters in the string text in the `Consumer complaint narrative` column. \n",
    "\n",
    "Which `Issue` has the longest complaint length on average?"
   ]
  },
  {
   "cell_type": "code",
   "execution_count": 94,
   "metadata": {},
   "outputs": [
    {
     "data": {
      "text/html": [
       "<div>\n",
       "<style scoped>\n",
       "    .dataframe tbody tr th:only-of-type {\n",
       "        vertical-align: middle;\n",
       "    }\n",
       "\n",
       "    .dataframe tbody tr th {\n",
       "        vertical-align: top;\n",
       "    }\n",
       "\n",
       "    .dataframe thead th {\n",
       "        text-align: right;\n",
       "    }\n",
       "</style>\n",
       "<table border=\"1\" class=\"dataframe\">\n",
       "  <thead>\n",
       "    <tr style=\"text-align: right;\">\n",
       "      <th></th>\n",
       "      <th>Date received</th>\n",
       "      <th>Product</th>\n",
       "      <th>Sub-product</th>\n",
       "      <th>Issue</th>\n",
       "      <th>Sub-issue</th>\n",
       "      <th>Consumer complaint narrative</th>\n",
       "      <th>Company public response</th>\n",
       "      <th>Company</th>\n",
       "      <th>State</th>\n",
       "      <th>ZIP code</th>\n",
       "      <th>Tags</th>\n",
       "      <th>Consumer consent provided?</th>\n",
       "      <th>Submitted via</th>\n",
       "      <th>Date sent to company</th>\n",
       "      <th>Company response to consumer</th>\n",
       "      <th>Timely response?</th>\n",
       "      <th>Consumer disputed?</th>\n",
       "      <th>Complaint ID</th>\n",
       "    </tr>\n",
       "  </thead>\n",
       "  <tbody>\n",
       "    <tr>\n",
       "      <th>0</th>\n",
       "      <td>2018-04-19</td>\n",
       "      <td>Credit card or prepaid card</td>\n",
       "      <td>General-purpose credit card or charge card</td>\n",
       "      <td>Closing your account</td>\n",
       "      <td>Can't close your account</td>\n",
       "      <td>NaN</td>\n",
       "      <td>Company has responded to the consumer and the CFPB and chooses not to provide a public response</td>\n",
       "      <td>CITIBANK, N.A.</td>\n",
       "      <td>AL</td>\n",
       "      <td>361XX</td>\n",
       "      <td>None</td>\n",
       "      <td>Consent not provided</td>\n",
       "      <td>Web</td>\n",
       "      <td>2018-04-19</td>\n",
       "      <td>Closed with explanation</td>\n",
       "      <td>Yes</td>\n",
       "      <td>NaN</td>\n",
       "      <td>2880655</td>\n",
       "    </tr>\n",
       "  </tbody>\n",
       "</table>\n",
       "</div>"
      ],
      "text/plain": [
       "  Date received                      Product                                 Sub-product                 Issue                 Sub-issue Consumer complaint narrative                                                                          Company public response         Company State ZIP code  Tags Consumer consent provided? Submitted via Date sent to company Company response to consumer Timely response?  Consumer disputed?  Complaint ID\n",
       "0    2018-04-19  Credit card or prepaid card  General-purpose credit card or charge card  Closing your account  Can't close your account                          NaN  Company has responded to the consumer and the CFPB and chooses not to provide a public response  CITIBANK, N.A.    AL    361XX  None       Consent not provided           Web           2018-04-19      Closed with explanation              Yes                 NaN       2880655"
      ]
     },
     "execution_count": 94,
     "metadata": {},
     "output_type": "execute_result"
    }
   ],
   "source": [
    "df.head(1)"
   ]
  },
  {
   "cell_type": "code",
   "execution_count": 95,
   "metadata": {},
   "outputs": [
    {
     "data": {
      "text/plain": [
       "0                                                Closing your account\n",
       "1                     Problem with a purchase shown on your statement\n",
       "2                                Incorrect information on your report\n",
       "3                                       Struggling to repay your loan\n",
       "4                                  Other features, terms, or problems\n",
       "                                     ...                             \n",
       "191091                                          Closing on a mortgage\n",
       "191092                                     Struggling to pay mortgage\n",
       "191093                                        Getting a loan or lease\n",
       "191094                                               Fees or interest\n",
       "191095    Applying for a mortgage or refinancing an existing mortgage\n",
       "Name: Issue, Length: 191096, dtype: object"
      ]
     },
     "execution_count": 95,
     "metadata": {},
     "output_type": "execute_result"
    }
   ],
   "source": [
    "df[\"Issue\"]"
   ]
  },
  {
   "cell_type": "code",
   "execution_count": 96,
   "metadata": {},
   "outputs": [
    {
     "data": {
      "text/plain": [
       "35"
      ]
     },
     "execution_count": 96,
     "metadata": {},
     "output_type": "execute_result"
    }
   ],
   "source": [
    "df[\"Issue\"].nunique()"
   ]
  },
  {
   "cell_type": "code",
   "execution_count": 97,
   "metadata": {},
   "outputs": [
    {
     "data": {
      "text/html": [
       "<div>\n",
       "<style scoped>\n",
       "    .dataframe tbody tr th:only-of-type {\n",
       "        vertical-align: middle;\n",
       "    }\n",
       "\n",
       "    .dataframe tbody tr th {\n",
       "        vertical-align: top;\n",
       "    }\n",
       "\n",
       "    .dataframe thead th {\n",
       "        text-align: right;\n",
       "    }\n",
       "</style>\n",
       "<table border=\"1\" class=\"dataframe\">\n",
       "  <thead>\n",
       "    <tr style=\"text-align: right;\">\n",
       "      <th></th>\n",
       "      <th>Date received</th>\n",
       "      <th>Product</th>\n",
       "      <th>Sub-product</th>\n",
       "      <th>Issue</th>\n",
       "      <th>Sub-issue</th>\n",
       "      <th>Consumer complaint narrative</th>\n",
       "      <th>Company public response</th>\n",
       "      <th>Company</th>\n",
       "      <th>State</th>\n",
       "      <th>ZIP code</th>\n",
       "      <th>Tags</th>\n",
       "      <th>Consumer consent provided?</th>\n",
       "      <th>Submitted via</th>\n",
       "      <th>Date sent to company</th>\n",
       "      <th>Company response to consumer</th>\n",
       "      <th>Timely response?</th>\n",
       "      <th>Consumer disputed?</th>\n",
       "      <th>Complaint ID</th>\n",
       "    </tr>\n",
       "  </thead>\n",
       "  <tbody>\n",
       "    <tr>\n",
       "      <th>2</th>\n",
       "      <td>2018-04-12</td>\n",
       "      <td>Mortgage</td>\n",
       "      <td>Conventional home mortgage</td>\n",
       "      <td>Incorrect information on your report</td>\n",
       "      <td>None</td>\n",
       "      <td>My ex husband and myself had a mobile home ( Home Mortgage ) with XXXX XXXX back in XX/XX/XXXX. I went through a horrible divorce as my husband was using drugs and failing to pay the bills which led to my having to divorce him. The Mortgage was in both of our names. We only had the Mortgage for one year and they got the trailer bc of being unable to pay debt. I was not working at the time as I had just given birth to my first child in XX/XX/XXXX ( she is now XXXX of age ) as this happened years ago. \\n\\nNow after 21 years, XXXX XXXX XXXX XXXX  filled a XXXX XXXX to the IRS and the IRS alerted me which caused me an adverse affect on my IRS taxes. \\nI received a l letter from the IRS XX/XX/XXXX which stated that due to DITECH Mortgage sending a XXXX with taxable income of {$17000.00}, this could cause me to have to owe the IRS {$2900.00}. IRS Told me to contact DITECH Financial to dispute this and request that DITECH Mortgage rescind the XXXX in order ( so it is not XXXX, XXXX taxabl...</td>\n",
       "      <td>Company believes complaint is the result of an isolated error</td>\n",
       "      <td>Ditech Financial LLC</td>\n",
       "      <td>GA</td>\n",
       "      <td>None</td>\n",
       "      <td>None</td>\n",
       "      <td>Consent provided</td>\n",
       "      <td>Web</td>\n",
       "      <td>2018-04-12</td>\n",
       "      <td>Closed with explanation</td>\n",
       "      <td>Yes</td>\n",
       "      <td>NaN</td>\n",
       "      <td>2873888</td>\n",
       "    </tr>\n",
       "  </tbody>\n",
       "</table>\n",
       "</div>"
      ],
      "text/plain": [
       "  Date received   Product                 Sub-product                                 Issue Sub-issue  \\\n",
       "2    2018-04-12  Mortgage  Conventional home mortgage  Incorrect information on your report      None   \n",
       "\n",
       "                                                                                                                                                                                                                                                                                                                                                                                                                                                                                                                                                                                                                                                                                                                                                                                                                                                                                                                                                                                                              Consumer complaint narrative  \\\n",
       "2  My ex husband and myself had a mobile home ( Home Mortgage ) with XXXX XXXX back in XX/XX/XXXX. I went through a horrible divorce as my husband was using drugs and failing to pay the bills which led to my having to divorce him. The Mortgage was in both of our names. We only had the Mortgage for one year and they got the trailer bc of being unable to pay debt. I was not working at the time as I had just given birth to my first child in XX/XX/XXXX ( she is now XXXX of age ) as this happened years ago. \\n\\nNow after 21 years, XXXX XXXX XXXX XXXX  filled a XXXX XXXX to the IRS and the IRS alerted me which caused me an adverse affect on my IRS taxes. \\nI received a l letter from the IRS XX/XX/XXXX which stated that due to DITECH Mortgage sending a XXXX with taxable income of {$17000.00}, this could cause me to have to owe the IRS {$2900.00}. IRS Told me to contact DITECH Financial to dispute this and request that DITECH Mortgage rescind the XXXX in order ( so it is not XXXX, XXXX taxabl...   \n",
       "\n",
       "                                         Company public response               Company State ZIP code  Tags Consumer consent provided? Submitted via Date sent to company Company response to consumer Timely response?  Consumer disputed?  Complaint ID  \n",
       "2  Company believes complaint is the result of an isolated error  Ditech Financial LLC    GA     None  None           Consent provided           Web           2018-04-12      Closed with explanation              Yes                 NaN       2873888  "
      ]
     },
     "execution_count": 97,
     "metadata": {},
     "output_type": "execute_result"
    }
   ],
   "source": [
    "mortgage = df[df[\"Product\"] == \"Mortgage\"]\n",
    "mortgage.head(1)"
   ]
  },
  {
   "cell_type": "code",
   "execution_count": 98,
   "metadata": {},
   "outputs": [
    {
     "data": {
      "text/plain": [
       "2                                Incorrect information on your report\n",
       "5                                          Struggling to pay mortgage\n",
       "7                                      Trouble during payment process\n",
       "9                                      Trouble during payment process\n",
       "13                                     Trouble during payment process\n",
       "                                     ...                             \n",
       "191089                                 Trouble during payment process\n",
       "191090                                     Struggling to pay mortgage\n",
       "191091                                          Closing on a mortgage\n",
       "191092                                     Struggling to pay mortgage\n",
       "191095    Applying for a mortgage or refinancing an existing mortgage\n",
       "Name: Issue, Length: 71361, dtype: object"
      ]
     },
     "execution_count": 98,
     "metadata": {},
     "output_type": "execute_result"
    }
   ],
   "source": [
    "mortgage.Issue"
   ]
  },
  {
   "cell_type": "code",
   "execution_count": 99,
   "metadata": {},
   "outputs": [
    {
     "data": {
      "text/plain": [
       "Date received                       0\n",
       "Product                             0\n",
       "Sub-product                         0\n",
       "Issue                               0\n",
       "Sub-issue                           0\n",
       "Consumer complaint narrative    40404\n",
       "Company public response             0\n",
       "Company                             0\n",
       "State                               0\n",
       "ZIP code                            0\n",
       "Tags                                0\n",
       "Consumer consent provided?      22314\n",
       "Submitted via                       0\n",
       "Date sent to company                0\n",
       "Company response to consumer        0\n",
       "Timely response?                    0\n",
       "Consumer disputed?              71361\n",
       "Complaint ID                        0\n",
       "dtype: int64"
      ]
     },
     "execution_count": 99,
     "metadata": {},
     "output_type": "execute_result"
    }
   ],
   "source": [
    "mortgage.isnull().sum()"
   ]
  },
  {
   "cell_type": "code",
   "execution_count": 100,
   "metadata": {},
   "outputs": [],
   "source": [
    "#mortgage.dropna(inplace=True, axis=0)"
   ]
  },
  {
   "cell_type": "code",
   "execution_count": 101,
   "metadata": {},
   "outputs": [],
   "source": [
    "mortgage[\"Avg_length\"] = mortgage[\"Consumer complaint narrative\"].str.len() #String length"
   ]
  },
  {
   "cell_type": "code",
   "execution_count": 102,
   "metadata": {},
   "outputs": [
    {
     "data": {
      "text/html": [
       "<div>\n",
       "<style scoped>\n",
       "    .dataframe tbody tr th:only-of-type {\n",
       "        vertical-align: middle;\n",
       "    }\n",
       "\n",
       "    .dataframe tbody tr th {\n",
       "        vertical-align: top;\n",
       "    }\n",
       "\n",
       "    .dataframe thead th {\n",
       "        text-align: right;\n",
       "    }\n",
       "</style>\n",
       "<table border=\"1\" class=\"dataframe\">\n",
       "  <thead>\n",
       "    <tr style=\"text-align: right;\">\n",
       "      <th></th>\n",
       "      <th>Date received</th>\n",
       "      <th>Product</th>\n",
       "      <th>Sub-product</th>\n",
       "      <th>Issue</th>\n",
       "      <th>Sub-issue</th>\n",
       "      <th>Consumer complaint narrative</th>\n",
       "      <th>Company public response</th>\n",
       "      <th>Company</th>\n",
       "      <th>State</th>\n",
       "      <th>ZIP code</th>\n",
       "      <th>Tags</th>\n",
       "      <th>Consumer consent provided?</th>\n",
       "      <th>Submitted via</th>\n",
       "      <th>Date sent to company</th>\n",
       "      <th>Company response to consumer</th>\n",
       "      <th>Timely response?</th>\n",
       "      <th>Consumer disputed?</th>\n",
       "      <th>Complaint ID</th>\n",
       "      <th>Avg_length</th>\n",
       "    </tr>\n",
       "  </thead>\n",
       "  <tbody>\n",
       "    <tr>\n",
       "      <th>2</th>\n",
       "      <td>2018-04-12</td>\n",
       "      <td>Mortgage</td>\n",
       "      <td>Conventional home mortgage</td>\n",
       "      <td>Incorrect information on your report</td>\n",
       "      <td>None</td>\n",
       "      <td>My ex husband and myself had a mobile home ( Home Mortgage ) with XXXX XXXX back in XX/XX/XXXX. I went through a horrible divorce as my husband was using drugs and failing to pay the bills which led to my having to divorce him. The Mortgage was in both of our names. We only had the Mortgage for one year and they got the trailer bc of being unable to pay debt. I was not working at the time as I had just given birth to my first child in XX/XX/XXXX ( she is now XXXX of age ) as this happened years ago. \\n\\nNow after 21 years, XXXX XXXX XXXX XXXX  filled a XXXX XXXX to the IRS and the IRS alerted me which caused me an adverse affect on my IRS taxes. \\nI received a l letter from the IRS XX/XX/XXXX which stated that due to DITECH Mortgage sending a XXXX with taxable income of {$17000.00}, this could cause me to have to owe the IRS {$2900.00}. IRS Told me to contact DITECH Financial to dispute this and request that DITECH Mortgage rescind the XXXX in order ( so it is not XXXX, XXXX taxabl...</td>\n",
       "      <td>Company believes complaint is the result of an isolated error</td>\n",
       "      <td>Ditech Financial LLC</td>\n",
       "      <td>GA</td>\n",
       "      <td>None</td>\n",
       "      <td>None</td>\n",
       "      <td>Consent provided</td>\n",
       "      <td>Web</td>\n",
       "      <td>2018-04-12</td>\n",
       "      <td>Closed with explanation</td>\n",
       "      <td>Yes</td>\n",
       "      <td>NaN</td>\n",
       "      <td>2873888</td>\n",
       "      <td>2656.00</td>\n",
       "    </tr>\n",
       "  </tbody>\n",
       "</table>\n",
       "</div>"
      ],
      "text/plain": [
       "  Date received   Product                 Sub-product                                 Issue Sub-issue  \\\n",
       "2    2018-04-12  Mortgage  Conventional home mortgage  Incorrect information on your report      None   \n",
       "\n",
       "                                                                                                                                                                                                                                                                                                                                                                                                                                                                                                                                                                                                                                                                                                                                                                                                                                                                                                                                                                                                              Consumer complaint narrative  \\\n",
       "2  My ex husband and myself had a mobile home ( Home Mortgage ) with XXXX XXXX back in XX/XX/XXXX. I went through a horrible divorce as my husband was using drugs and failing to pay the bills which led to my having to divorce him. The Mortgage was in both of our names. We only had the Mortgage for one year and they got the trailer bc of being unable to pay debt. I was not working at the time as I had just given birth to my first child in XX/XX/XXXX ( she is now XXXX of age ) as this happened years ago. \\n\\nNow after 21 years, XXXX XXXX XXXX XXXX  filled a XXXX XXXX to the IRS and the IRS alerted me which caused me an adverse affect on my IRS taxes. \\nI received a l letter from the IRS XX/XX/XXXX which stated that due to DITECH Mortgage sending a XXXX with taxable income of {$17000.00}, this could cause me to have to owe the IRS {$2900.00}. IRS Told me to contact DITECH Financial to dispute this and request that DITECH Mortgage rescind the XXXX in order ( so it is not XXXX, XXXX taxabl...   \n",
       "\n",
       "                                         Company public response               Company State ZIP code  Tags Consumer consent provided? Submitted via Date sent to company Company response to consumer Timely response?  Consumer disputed?  Complaint ID  Avg_length  \n",
       "2  Company believes complaint is the result of an isolated error  Ditech Financial LLC    GA     None  None           Consent provided           Web           2018-04-12      Closed with explanation              Yes                 NaN       2873888     2656.00  "
      ]
     },
     "execution_count": 102,
     "metadata": {},
     "output_type": "execute_result"
    }
   ],
   "source": [
    "mortgage.head(1)"
   ]
  },
  {
   "cell_type": "code",
   "execution_count": 103,
   "metadata": {},
   "outputs": [
    {
     "data": {
      "text/html": [
       "<div>\n",
       "<style scoped>\n",
       "    .dataframe tbody tr th:only-of-type {\n",
       "        vertical-align: middle;\n",
       "    }\n",
       "\n",
       "    .dataframe tbody tr th {\n",
       "        vertical-align: top;\n",
       "    }\n",
       "\n",
       "    .dataframe thead th {\n",
       "        text-align: right;\n",
       "    }\n",
       "</style>\n",
       "<table border=\"1\" class=\"dataframe\">\n",
       "  <thead>\n",
       "    <tr style=\"text-align: right;\">\n",
       "      <th></th>\n",
       "      <th>Consumer disputed?</th>\n",
       "      <th>Complaint ID</th>\n",
       "      <th>Avg_length</th>\n",
       "    </tr>\n",
       "    <tr>\n",
       "      <th>Issue</th>\n",
       "      <th></th>\n",
       "      <th></th>\n",
       "      <th></th>\n",
       "    </tr>\n",
       "  </thead>\n",
       "  <tbody>\n",
       "    <tr>\n",
       "      <th>Problem with fraud alerts or security freezes</th>\n",
       "      <td>NaN</td>\n",
       "      <td>3333157.82</td>\n",
       "      <td>656.60</td>\n",
       "    </tr>\n",
       "    <tr>\n",
       "      <th>Improper use of your report</th>\n",
       "      <td>NaN</td>\n",
       "      <td>3293032.93</td>\n",
       "      <td>890.00</td>\n",
       "    </tr>\n",
       "    <tr>\n",
       "      <th>Incorrect information on your report</th>\n",
       "      <td>NaN</td>\n",
       "      <td>3278880.61</td>\n",
       "      <td>1150.03</td>\n",
       "    </tr>\n",
       "    <tr>\n",
       "      <th>Problem with a credit reporting company's investigation into an existing problem</th>\n",
       "      <td>NaN</td>\n",
       "      <td>3335790.09</td>\n",
       "      <td>1232.17</td>\n",
       "    </tr>\n",
       "    <tr>\n",
       "      <th>Credit monitoring or identity theft protection services</th>\n",
       "      <td>NaN</td>\n",
       "      <td>3343168.53</td>\n",
       "      <td>1236.68</td>\n",
       "    </tr>\n",
       "    <tr>\n",
       "      <th>Unable to get your credit report or credit score</th>\n",
       "      <td>NaN</td>\n",
       "      <td>3143464.85</td>\n",
       "      <td>1563.53</td>\n",
       "    </tr>\n",
       "    <tr>\n",
       "      <th>Trouble during payment process</th>\n",
       "      <td>NaN</td>\n",
       "      <td>3233080.14</td>\n",
       "      <td>1718.79</td>\n",
       "    </tr>\n",
       "    <tr>\n",
       "      <th>Applying for a mortgage or refinancing an existing mortgage</th>\n",
       "      <td>NaN</td>\n",
       "      <td>3326424.17</td>\n",
       "      <td>1777.40</td>\n",
       "    </tr>\n",
       "    <tr>\n",
       "      <th>Struggling to pay mortgage</th>\n",
       "      <td>NaN</td>\n",
       "      <td>3160980.60</td>\n",
       "      <td>1960.82</td>\n",
       "    </tr>\n",
       "    <tr>\n",
       "      <th>Closing on a mortgage</th>\n",
       "      <td>NaN</td>\n",
       "      <td>3273167.30</td>\n",
       "      <td>2006.37</td>\n",
       "    </tr>\n",
       "  </tbody>\n",
       "</table>\n",
       "</div>"
      ],
      "text/plain": [
       "                                                                                  Consumer disputed?  Complaint ID  Avg_length\n",
       "Issue                                                                                                                         \n",
       "Problem with fraud alerts or security freezes                                                    NaN    3333157.82      656.60\n",
       "Improper use of your report                                                                      NaN    3293032.93      890.00\n",
       "Incorrect information on your report                                                             NaN    3278880.61     1150.03\n",
       "Problem with a credit reporting company's investigation into an existing problem                 NaN    3335790.09     1232.17\n",
       "Credit monitoring or identity theft protection services                                          NaN    3343168.53     1236.68\n",
       "Unable to get your credit report or credit score                                                 NaN    3143464.85     1563.53\n",
       "Trouble during payment process                                                                   NaN    3233080.14     1718.79\n",
       "Applying for a mortgage or refinancing an existing mortgage                                      NaN    3326424.17     1777.40\n",
       "Struggling to pay mortgage                                                                       NaN    3160980.60     1960.82\n",
       "Closing on a mortgage                                                                            NaN    3273167.30     2006.37"
      ]
     },
     "execution_count": 103,
     "metadata": {},
     "output_type": "execute_result"
    }
   ],
   "source": [
    "mortgage.groupby([\"Issue\"]).mean().sort_values(by=\"Avg_length\")"
   ]
  },
  {
   "cell_type": "markdown",
   "metadata": {},
   "source": [
    "***"
   ]
  },
  {
   "cell_type": "markdown",
   "metadata": {},
   "source": [
    "Consider only Credit card or prepaid card complaints. Consider the two columns `Product` and `Consumer complaint narrative`.\n",
    "\n",
    "For the string text in the `Consumer complaint narrative` column, drop any rows with `NA` in the column and remove any strings such as \"XX\", \"XXX\", \"XXXX\" in the complaint.\n",
    "\n",
    "Transform this data frame with two columns into a data frame with three columns (`Product`, `id_number`, and `word`)  where the text in the `Consumer complaint narrative` column gets converted into a format where each row corresponds to one word of the complaint (`word`) while also keeping track of which complaint we are working with (`id_number)`. \n",
    "\n",
    "Remove any stop words.   \n",
    "\n",
    "What are the top three most frequently used words for this type of complaint?  "
   ]
  },
  {
   "cell_type": "code",
   "execution_count": 104,
   "metadata": {},
   "outputs": [
    {
     "data": {
      "text/html": [
       "<div>\n",
       "<style scoped>\n",
       "    .dataframe tbody tr th:only-of-type {\n",
       "        vertical-align: middle;\n",
       "    }\n",
       "\n",
       "    .dataframe tbody tr th {\n",
       "        vertical-align: top;\n",
       "    }\n",
       "\n",
       "    .dataframe thead th {\n",
       "        text-align: right;\n",
       "    }\n",
       "</style>\n",
       "<table border=\"1\" class=\"dataframe\">\n",
       "  <thead>\n",
       "    <tr style=\"text-align: right;\">\n",
       "      <th></th>\n",
       "      <th>Date received</th>\n",
       "      <th>Product</th>\n",
       "      <th>Sub-product</th>\n",
       "      <th>Issue</th>\n",
       "      <th>Sub-issue</th>\n",
       "      <th>Consumer complaint narrative</th>\n",
       "      <th>Company public response</th>\n",
       "      <th>Company</th>\n",
       "      <th>State</th>\n",
       "      <th>ZIP code</th>\n",
       "      <th>Tags</th>\n",
       "      <th>Consumer consent provided?</th>\n",
       "      <th>Submitted via</th>\n",
       "      <th>Date sent to company</th>\n",
       "      <th>Company response to consumer</th>\n",
       "      <th>Timely response?</th>\n",
       "      <th>Consumer disputed?</th>\n",
       "      <th>Complaint ID</th>\n",
       "    </tr>\n",
       "  </thead>\n",
       "  <tbody>\n",
       "    <tr>\n",
       "      <th>0</th>\n",
       "      <td>2018-04-19</td>\n",
       "      <td>Credit card or prepaid card</td>\n",
       "      <td>General-purpose credit card or charge card</td>\n",
       "      <td>Closing your account</td>\n",
       "      <td>Can't close your account</td>\n",
       "      <td>NaN</td>\n",
       "      <td>Company has responded to the consumer and the CFPB and chooses not to provide a public response</td>\n",
       "      <td>CITIBANK, N.A.</td>\n",
       "      <td>AL</td>\n",
       "      <td>361XX</td>\n",
       "      <td>None</td>\n",
       "      <td>Consent not provided</td>\n",
       "      <td>Web</td>\n",
       "      <td>2018-04-19</td>\n",
       "      <td>Closed with explanation</td>\n",
       "      <td>Yes</td>\n",
       "      <td>NaN</td>\n",
       "      <td>2880655</td>\n",
       "    </tr>\n",
       "  </tbody>\n",
       "</table>\n",
       "</div>"
      ],
      "text/plain": [
       "  Date received                      Product                                 Sub-product                 Issue                 Sub-issue Consumer complaint narrative                                                                          Company public response         Company State ZIP code  Tags Consumer consent provided? Submitted via Date sent to company Company response to consumer Timely response?  Consumer disputed?  Complaint ID\n",
       "0    2018-04-19  Credit card or prepaid card  General-purpose credit card or charge card  Closing your account  Can't close your account                          NaN  Company has responded to the consumer and the CFPB and chooses not to provide a public response  CITIBANK, N.A.    AL    361XX  None       Consent not provided           Web           2018-04-19      Closed with explanation              Yes                 NaN       2880655"
      ]
     },
     "execution_count": 104,
     "metadata": {},
     "output_type": "execute_result"
    }
   ],
   "source": [
    "df.head(1)"
   ]
  },
  {
   "cell_type": "code",
   "execution_count": 105,
   "metadata": {},
   "outputs": [],
   "source": [
    "df_q5 = df[[\"Product\",\"Consumer complaint narrative\"]]"
   ]
  },
  {
   "cell_type": "code",
   "execution_count": 106,
   "metadata": {},
   "outputs": [
    {
     "data": {
      "text/html": [
       "<div>\n",
       "<style scoped>\n",
       "    .dataframe tbody tr th:only-of-type {\n",
       "        vertical-align: middle;\n",
       "    }\n",
       "\n",
       "    .dataframe tbody tr th {\n",
       "        vertical-align: top;\n",
       "    }\n",
       "\n",
       "    .dataframe thead th {\n",
       "        text-align: right;\n",
       "    }\n",
       "</style>\n",
       "<table border=\"1\" class=\"dataframe\">\n",
       "  <thead>\n",
       "    <tr style=\"text-align: right;\">\n",
       "      <th></th>\n",
       "      <th>Product</th>\n",
       "      <th>Consumer complaint narrative</th>\n",
       "    </tr>\n",
       "  </thead>\n",
       "  <tbody>\n",
       "    <tr>\n",
       "      <th>0</th>\n",
       "      <td>Credit card or prepaid card</td>\n",
       "      <td>NaN</td>\n",
       "    </tr>\n",
       "    <tr>\n",
       "      <th>1</th>\n",
       "      <td>Credit card or prepaid card</td>\n",
       "      <td>I initially in writing to Chase Bank in late XXXX about a charge that was unauthorized on XXXX from XXXX in the amount of {$790.00} after many letters and complaints they still did not do anything yet in XXXX they closed my original account and reissued a new account and sent me a letter indicating they moved this charge to fraud and it would be immediately credited however they have failed to do that and almost 8 months later it is still on my statement and I'm getting charged interest. Even after this I still use my card and PAY for my charges and have never been late however I will not pay for a charge I didn't make and refuse and Chase refuses to do anything even after many attempts and letters they write stating so. I feel this is last step before I begin a case in XXXX XXXX XXXX XXXX against them</td>\n",
       "    </tr>\n",
       "  </tbody>\n",
       "</table>\n",
       "</div>"
      ],
      "text/plain": [
       "                       Product                                                                                                                                                                                                                                                                                                                                                                                                                                                                                                                                                                                                                                                                                                                                                                                                                   Consumer complaint narrative\n",
       "0  Credit card or prepaid card                                                                                                                                                                                                                                                                                                                                                                                                                                                                                                                                                                                                                                                                                                                                                                                                                                            NaN\n",
       "1  Credit card or prepaid card  I initially in writing to Chase Bank in late XXXX about a charge that was unauthorized on XXXX from XXXX in the amount of {$790.00} after many letters and complaints they still did not do anything yet in XXXX they closed my original account and reissued a new account and sent me a letter indicating they moved this charge to fraud and it would be immediately credited however they have failed to do that and almost 8 months later it is still on my statement and I'm getting charged interest. Even after this I still use my card and PAY for my charges and have never been late however I will not pay for a charge I didn't make and refuse and Chase refuses to do anything even after many attempts and letters they write stating so. I feel this is last step before I begin a case in XXXX XXXX XXXX XXXX against them"
      ]
     },
     "execution_count": 106,
     "metadata": {},
     "output_type": "execute_result"
    }
   ],
   "source": [
    "q5 = df_q5[df_q5[\"Product\"] == \"Credit card or prepaid card\"]\n",
    "q5.head(2)"
   ]
  },
  {
   "cell_type": "code",
   "execution_count": 107,
   "metadata": {},
   "outputs": [
    {
     "data": {
      "text/plain": [
       "Product                             0\n",
       "Consumer complaint narrative    42332\n",
       "dtype: int64"
      ]
     },
     "execution_count": 107,
     "metadata": {},
     "output_type": "execute_result"
    }
   ],
   "source": [
    "q5.isnull().sum()"
   ]
  },
  {
   "cell_type": "code",
   "execution_count": 108,
   "metadata": {},
   "outputs": [
    {
     "data": {
      "text/plain": [
       "(80626, 2)"
      ]
     },
     "execution_count": 108,
     "metadata": {},
     "output_type": "execute_result"
    }
   ],
   "source": [
    "q5.shape"
   ]
  },
  {
   "cell_type": "code",
   "execution_count": 109,
   "metadata": {},
   "outputs": [],
   "source": [
    "q5.dropna(inplace=True)"
   ]
  },
  {
   "cell_type": "code",
   "execution_count": 110,
   "metadata": {},
   "outputs": [
    {
     "data": {
      "text/plain": [
       "(38294, 2)"
      ]
     },
     "execution_count": 110,
     "metadata": {},
     "output_type": "execute_result"
    }
   ],
   "source": [
    "q5.shape"
   ]
  },
  {
   "cell_type": "code",
   "execution_count": 111,
   "metadata": {},
   "outputs": [
    {
     "data": {
      "text/html": [
       "<div>\n",
       "<style scoped>\n",
       "    .dataframe tbody tr th:only-of-type {\n",
       "        vertical-align: middle;\n",
       "    }\n",
       "\n",
       "    .dataframe tbody tr th {\n",
       "        vertical-align: top;\n",
       "    }\n",
       "\n",
       "    .dataframe thead th {\n",
       "        text-align: right;\n",
       "    }\n",
       "</style>\n",
       "<table border=\"1\" class=\"dataframe\">\n",
       "  <thead>\n",
       "    <tr style=\"text-align: right;\">\n",
       "      <th></th>\n",
       "      <th>Product</th>\n",
       "      <th>Consumer complaint narrative</th>\n",
       "    </tr>\n",
       "  </thead>\n",
       "  <tbody>\n",
       "    <tr>\n",
       "      <th>1</th>\n",
       "      <td>Credit card or prepaid card</td>\n",
       "      <td>I initially in writing to Chase Bank in late XXXX about a charge that was unauthorized on XXXX from XXXX in the amount of {$790.00} after many letters and complaints they still did not do anything yet in XXXX they closed my original account and reissued a new account and sent me a letter indicating they moved this charge to fraud and it would be immediately credited however they have failed to do that and almost 8 months later it is still on my statement and I'm getting charged interest. Even after this I still use my card and PAY for my charges and have never been late however I will not pay for a charge I didn't make and refuse and Chase refuses to do anything even after many attempts and letters they write stating so. I feel this is last step before I begin a case in XXXX XXXX XXXX XXXX against them</td>\n",
       "    </tr>\n",
       "    <tr>\n",
       "      <th>4</th>\n",
       "      <td>Credit card or prepaid card</td>\n",
       "      <td>It has come to my attention the CITI group is actively attempting to interfere with rights guaranteed by the Constitution ( 2nd Amendment ) by manipulating or denying service to certain entities or transactions that are protected by the Constitution. I do not expect CITI group, or any other financial institution to be controlling the nation 's activities through such unpatriotic and un-American behavior. I do expect CITI group to tend to the business of their business and stay out of the business of social tyranny.</td>\n",
       "    </tr>\n",
       "    <tr>\n",
       "      <th>6</th>\n",
       "      <td>Credit card or prepaid card</td>\n",
       "      <td>This banks new firearm policies run counter to laws and regulations passed by Congress, and they infringe and discriminate against an individuals Second Amendment rights. Such policies, should not be endorsed by our federal government, which instead should do business with companies that respect all of our constitutional rights, including the Second Amendment. Our federal government should take all necessary steps to review and terminate its contract with Citibank unless they rescind their guidelines.</td>\n",
       "    </tr>\n",
       "  </tbody>\n",
       "</table>\n",
       "</div>"
      ],
      "text/plain": [
       "                       Product                                                                                                                                                                                                                                                                                                                                                                                                                                                                                                                                                                                                                                                                                                                                                                                                                   Consumer complaint narrative\n",
       "1  Credit card or prepaid card  I initially in writing to Chase Bank in late XXXX about a charge that was unauthorized on XXXX from XXXX in the amount of {$790.00} after many letters and complaints they still did not do anything yet in XXXX they closed my original account and reissued a new account and sent me a letter indicating they moved this charge to fraud and it would be immediately credited however they have failed to do that and almost 8 months later it is still on my statement and I'm getting charged interest. Even after this I still use my card and PAY for my charges and have never been late however I will not pay for a charge I didn't make and refuse and Chase refuses to do anything even after many attempts and letters they write stating so. I feel this is last step before I begin a case in XXXX XXXX XXXX XXXX against them\n",
       "4  Credit card or prepaid card                                                                                                                                                                                                                                                                                                       It has come to my attention the CITI group is actively attempting to interfere with rights guaranteed by the Constitution ( 2nd Amendment ) by manipulating or denying service to certain entities or transactions that are protected by the Constitution. I do not expect CITI group, or any other financial institution to be controlling the nation 's activities through such unpatriotic and un-American behavior. I do expect CITI group to tend to the business of their business and stay out of the business of social tyranny.\n",
       "6  Credit card or prepaid card                                                                                                                                                                                                                                                                                                                     This banks new firearm policies run counter to laws and regulations passed by Congress, and they infringe and discriminate against an individuals Second Amendment rights. Such policies, should not be endorsed by our federal government, which instead should do business with companies that respect all of our constitutional rights, including the Second Amendment. Our federal government should take all necessary steps to review and terminate its contract with Citibank unless they rescind their guidelines."
      ]
     },
     "execution_count": 111,
     "metadata": {},
     "output_type": "execute_result"
    }
   ],
   "source": [
    "q5.head(3)"
   ]
  },
  {
   "cell_type": "code",
   "execution_count": 112,
   "metadata": {},
   "outputs": [],
   "source": [
    "q5[\"Consumer complaint narrative\"] = q5[\"Consumer complaint narrative\"].str.replace('X','')"
   ]
  },
  {
   "cell_type": "code",
   "execution_count": 113,
   "metadata": {},
   "outputs": [
    {
     "data": {
      "text/html": [
       "<div>\n",
       "<style scoped>\n",
       "    .dataframe tbody tr th:only-of-type {\n",
       "        vertical-align: middle;\n",
       "    }\n",
       "\n",
       "    .dataframe tbody tr th {\n",
       "        vertical-align: top;\n",
       "    }\n",
       "\n",
       "    .dataframe thead th {\n",
       "        text-align: right;\n",
       "    }\n",
       "</style>\n",
       "<table border=\"1\" class=\"dataframe\">\n",
       "  <thead>\n",
       "    <tr style=\"text-align: right;\">\n",
       "      <th></th>\n",
       "      <th>Product</th>\n",
       "      <th>Consumer complaint narrative</th>\n",
       "    </tr>\n",
       "  </thead>\n",
       "  <tbody>\n",
       "    <tr>\n",
       "      <th>1</th>\n",
       "      <td>Credit card or prepaid card</td>\n",
       "      <td>I initially in writing to Chase Bank in late  about a charge that was unauthorized on  from  in the amount of {$790.00} after many letters and complaints they still did not do anything yet in  they closed my original account and reissued a new account and sent me a letter indicating they moved this charge to fraud and it would be immediately credited however they have failed to do that and almost 8 months later it is still on my statement and I'm getting charged interest. Even after this I still use my card and PAY for my charges and have never been late however I will not pay for a charge I didn't make and refuse and Chase refuses to do anything even after many attempts and letters they write stating so. I feel this is last step before I begin a case in     against them</td>\n",
       "    </tr>\n",
       "    <tr>\n",
       "      <th>4</th>\n",
       "      <td>Credit card or prepaid card</td>\n",
       "      <td>It has come to my attention the CITI group is actively attempting to interfere with rights guaranteed by the Constitution ( 2nd Amendment ) by manipulating or denying service to certain entities or transactions that are protected by the Constitution. I do not expect CITI group, or any other financial institution to be controlling the nation 's activities through such unpatriotic and un-American behavior. I do expect CITI group to tend to the business of their business and stay out of the business of social tyranny.</td>\n",
       "    </tr>\n",
       "    <tr>\n",
       "      <th>6</th>\n",
       "      <td>Credit card or prepaid card</td>\n",
       "      <td>This banks new firearm policies run counter to laws and regulations passed by Congress, and they infringe and discriminate against an individuals Second Amendment rights. Such policies, should not be endorsed by our federal government, which instead should do business with companies that respect all of our constitutional rights, including the Second Amendment. Our federal government should take all necessary steps to review and terminate its contract with Citibank unless they rescind their guidelines.</td>\n",
       "    </tr>\n",
       "    <tr>\n",
       "      <th>8</th>\n",
       "      <td>Credit card or prepaid card</td>\n",
       "      <td>I only use my walmart store card to keep from having it cancelled. My sons a college student had his card cancelled for non use. I made a small purchase in // and paid it off. Made another small purchase in // and thought i paid it off online via wlamart.com but that seemed not to work i didn't receive a statment after that probably the mail courier.i have an apartment style mailbox system where i live. Nevertheless. So i thought all was good until credit sesame showed a past due report.i was out of town at the time. so i immediately searched walmarts payment site and paid the account in full. I also noticed that my {$400.00} account had been reduced to a mere {$110.00} just {$9.00} short of my now due payment which included aprox. {$60.00} in past due fees. So it appears that i maxed out the account by a $ 30- {$40.00} purchase. My credit dropped 47 score points from  down to . From excellent to a fair rating.</td>\n",
       "    </tr>\n",
       "    <tr>\n",
       "      <th>12</th>\n",
       "      <td>Credit card or prepaid card</td>\n",
       "      <td>CALLED AND DEMNDED PAYMENTS BEFORE THEY WERE DUE BY 15 DAYS. FALSE CREDIT LIMITS AND INCREASES PROMISED FROM BEGINING TO END. HARASSING PHONE CALLS. NO HELP FROM SUPERVISORS. FALSE CHARGES ON MY ACCOUNT. HOURS WASTED ON THE PHONE. THE MOST EVIL COMPANY THAT I HAVE EVER ENCOUNTERED. THAT IS THE SUGAR COATED VERSION.</td>\n",
       "    </tr>\n",
       "    <tr>\n",
       "      <th>...</th>\n",
       "      <td>...</td>\n",
       "      <td>...</td>\n",
       "    </tr>\n",
       "    <tr>\n",
       "      <th>191020</th>\n",
       "      <td>Credit card or prepaid card</td>\n",
       "      <td>Re : Capital One World MasterCard promotion offering 0 % interest for 12 months with 2 % transfer fee. \\n\\nIn // I transferred in excess of {$5000.00} to my Capital One credit card. My current statement ( payment due date of // ) does not reflect this agreement, but instead shows an interest charge of {$90.00} and a minimum payment of {$140.00} due on //. Both of these figures are in error. \\n\\nOn // I spoke with three Capital One representatives ( rep ID numbers , , and  ), including a supervisor. They acknowledged that there was a system error in recording the promotional offer. I was not informed by Capital One of this error either by mail or email before I had made my telephone call. \\n\\nThese representatives told me that a correction may take \" two billing cycles '' to correct and that I should continue to make the {$140.00} minimum payment ( s ) until this was corrected. \\n\\nI protested that the entire statement was in error and that the {$140.00} minimum payment was excessiv...</td>\n",
       "    </tr>\n",
       "    <tr>\n",
       "      <th>191026</th>\n",
       "      <td>Credit card or prepaid card</td>\n",
       "      <td>Credit Card financed by   refuses to remove late fees and interest fees they charged me after I was under impression my account balance was {$0.00}. I made a payment plan with them to where their representative calls me on my paydays and I make a payment until my balance is paid in full. Their representative stopped calling me and I was left with {$23.00} balance. Now, after late fees and interest, they are trying to collect {$230.00} from me and are reporting me late to all credit agencies. \\nI have sent them a letter with proof of payments as agreed with their representative and they refuse to help me.</td>\n",
       "    </tr>\n",
       "    <tr>\n",
       "      <th>191029</th>\n",
       "      <td>Credit card or prepaid card</td>\n",
       "      <td>\" I have an overcharge of {$250.00} on my current balance. I do owe {$480.00} for purchased transactions as of past  statement . Upon review ... ..here 's the breakdown ; as of //, my purchases amount totaled {$440.00} minus refund from   of {$94.00} and my payment credited {$150.00} on //. Then, i subtract {$240.00} minus {$440.00} with a remaining due {$190.00}. I submitted another payment was made in amount of {$440.00} on //. Transactions from  and the   totaled {$930.00} minus that payment of {$440.00}, credits/refunds of {$2.00}, {$11.00}, {$27.00} as of current period ending //. Current balance owing is {$480.00} and NOT {$730.00}. Please reView and adjust my account immediately. ''</td>\n",
       "    </tr>\n",
       "    <tr>\n",
       "      <th>191030</th>\n",
       "      <td>Credit card or prepaid card</td>\n",
       "      <td>This involves a Chase Advantage ( checking ) account. It's like a credit card, but used by checks only. The account was under my husband 's name only ( contractually person ), I as his spouse was \" authorized user ''. My husband passed away  , . I went to Chase Bank with Death Certificate and they \" refused '' to write account off ( no explanation as why the refusal ). I was \" forced '' to change account to my name, so I did. At time of death the balance was {$3600.00}. I faithfully paid on account, but ,  I paid account off as it was unusable since // ( Chase no longer honored this type account ). I paid {$1900.00} ( with a no interest credit card till  ) + {$10.00} interest billed in . I read an article in  bulletin about Death &amp; Debt and it stated that an \" authorized user '' may not be responsible for debt balance due at death. So, I wrote a letter to Chase requesting that they please consider paying me back what was owed at time of my husband 's death, and gave it to Branch Ma...</td>\n",
       "    </tr>\n",
       "    <tr>\n",
       "      <th>191057</th>\n",
       "      <td>Credit card or prepaid card</td>\n",
       "      <td>i have been an american express customer for years. i noticed about 8 months ago that my business management account waas not accumulating points i called last weekend i was told since //2017 no points have accumulated. i was told it would be worked on. i call today and see nothing has changed i get transferred all over the world with no regard for my time. this is stressful enough and i cant be the victim of system failure. i need points i am owed from // on on business management acct which i am owed and other for my trouble and how this happened explanation without calling and being trnsferred all over the world</td>\n",
       "    </tr>\n",
       "  </tbody>\n",
       "</table>\n",
       "<p>38294 rows × 2 columns</p>\n",
       "</div>"
      ],
      "text/plain": [
       "                            Product  \\\n",
       "1       Credit card or prepaid card   \n",
       "4       Credit card or prepaid card   \n",
       "6       Credit card or prepaid card   \n",
       "8       Credit card or prepaid card   \n",
       "12      Credit card or prepaid card   \n",
       "...                             ...   \n",
       "191020  Credit card or prepaid card   \n",
       "191026  Credit card or prepaid card   \n",
       "191029  Credit card or prepaid card   \n",
       "191030  Credit card or prepaid card   \n",
       "191057  Credit card or prepaid card   \n",
       "\n",
       "                                                                                                                                                                                                                                                                                                                                                                                                                                                                                                                                                                                                                                                                                                                                                                                                                                                                                                                                                                                                                   Consumer complaint narrative  \n",
       "1                                                                                                                                                                                                                                 I initially in writing to Chase Bank in late  about a charge that was unauthorized on  from  in the amount of {$790.00} after many letters and complaints they still did not do anything yet in  they closed my original account and reissued a new account and sent me a letter indicating they moved this charge to fraud and it would be immediately credited however they have failed to do that and almost 8 months later it is still on my statement and I'm getting charged interest. Even after this I still use my card and PAY for my charges and have never been late however I will not pay for a charge I didn't make and refuse and Chase refuses to do anything even after many attempts and letters they write stating so. I feel this is last step before I begin a case in     against them  \n",
       "4                                                                                                                                                                                                                                                                                                                                                                                                                                                                                                      It has come to my attention the CITI group is actively attempting to interfere with rights guaranteed by the Constitution ( 2nd Amendment ) by manipulating or denying service to certain entities or transactions that are protected by the Constitution. I do not expect CITI group, or any other financial institution to be controlling the nation 's activities through such unpatriotic and un-American behavior. I do expect CITI group to tend to the business of their business and stay out of the business of social tyranny.  \n",
       "6                                                                                                                                                                                                                                                                                                                                                                                                                                                                                                                    This banks new firearm policies run counter to laws and regulations passed by Congress, and they infringe and discriminate against an individuals Second Amendment rights. Such policies, should not be endorsed by our federal government, which instead should do business with companies that respect all of our constitutional rights, including the Second Amendment. Our federal government should take all necessary steps to review and terminate its contract with Citibank unless they rescind their guidelines.  \n",
       "8                                                                                  I only use my walmart store card to keep from having it cancelled. My sons a college student had his card cancelled for non use. I made a small purchase in // and paid it off. Made another small purchase in // and thought i paid it off online via wlamart.com but that seemed not to work i didn't receive a statment after that probably the mail courier.i have an apartment style mailbox system where i live. Nevertheless. So i thought all was good until credit sesame showed a past due report.i was out of town at the time. so i immediately searched walmarts payment site and paid the account in full. I also noticed that my {$400.00} account had been reduced to a mere {$110.00} just {$9.00} short of my now due payment which included aprox. {$60.00} in past due fees. So it appears that i maxed out the account by a $ 30- {$40.00} purchase. My credit dropped 47 score points from  down to . From excellent to a fair rating.  \n",
       "12                                                                                                                                                                                                                                                                                                                                                                                                                                                                                                                                                                                                                                                                                                                 CALLED AND DEMNDED PAYMENTS BEFORE THEY WERE DUE BY 15 DAYS. FALSE CREDIT LIMITS AND INCREASES PROMISED FROM BEGINING TO END. HARASSING PHONE CALLS. NO HELP FROM SUPERVISORS. FALSE CHARGES ON MY ACCOUNT. HOURS WASTED ON THE PHONE. THE MOST EVIL COMPANY THAT I HAVE EVER ENCOUNTERED. THAT IS THE SUGAR COATED VERSION.  \n",
       "...                                                                                                                                                                                                                                                                                                                                                                                                                                                                                                                                                                                                                                                                                                                                                                                                                                                                                                                                                                                                                                         ...  \n",
       "191020  Re : Capital One World MasterCard promotion offering 0 % interest for 12 months with 2 % transfer fee. \\n\\nIn // I transferred in excess of {$5000.00} to my Capital One credit card. My current statement ( payment due date of // ) does not reflect this agreement, but instead shows an interest charge of {$90.00} and a minimum payment of {$140.00} due on //. Both of these figures are in error. \\n\\nOn // I spoke with three Capital One representatives ( rep ID numbers , , and  ), including a supervisor. They acknowledged that there was a system error in recording the promotional offer. I was not informed by Capital One of this error either by mail or email before I had made my telephone call. \\n\\nThese representatives told me that a correction may take \" two billing cycles '' to correct and that I should continue to make the {$140.00} minimum payment ( s ) until this was corrected. \\n\\nI protested that the entire statement was in error and that the {$140.00} minimum payment was excessiv...  \n",
       "191026                                                                                                                                                                                                                                                                                                                                                                                                      Credit Card financed by   refuses to remove late fees and interest fees they charged me after I was under impression my account balance was {$0.00}. I made a payment plan with them to where their representative calls me on my paydays and I make a payment until my balance is paid in full. Their representative stopped calling me and I was left with {$23.00} balance. Now, after late fees and interest, they are trying to collect {$230.00} from me and are reporting me late to all credit agencies. \\nI have sent them a letter with proof of payments as agreed with their representative and they refuse to help me.  \n",
       "191029                                                                                                                                                                                                                                                                                                               \" I have an overcharge of {$250.00} on my current balance. I do owe {$480.00} for purchased transactions as of past  statement . Upon review ... ..here 's the breakdown ; as of //, my purchases amount totaled {$440.00} minus refund from   of {$94.00} and my payment credited {$150.00} on //. Then, i subtract {$240.00} minus {$440.00} with a remaining due {$190.00}. I submitted another payment was made in amount of {$440.00} on //. Transactions from  and the   totaled {$930.00} minus that payment of {$440.00}, credits/refunds of {$2.00}, {$11.00}, {$27.00} as of current period ending //. Current balance owing is {$480.00} and NOT {$730.00}. Please reView and adjust my account immediately. ''  \n",
       "191030  This involves a Chase Advantage ( checking ) account. It's like a credit card, but used by checks only. The account was under my husband 's name only ( contractually person ), I as his spouse was \" authorized user ''. My husband passed away  , . I went to Chase Bank with Death Certificate and they \" refused '' to write account off ( no explanation as why the refusal ). I was \" forced '' to change account to my name, so I did. At time of death the balance was {$3600.00}. I faithfully paid on account, but ,  I paid account off as it was unusable since // ( Chase no longer honored this type account ). I paid {$1900.00} ( with a no interest credit card till  ) + {$10.00} interest billed in . I read an article in  bulletin about Death & Debt and it stated that an \" authorized user '' may not be responsible for debt balance due at death. So, I wrote a letter to Chase requesting that they please consider paying me back what was owed at time of my husband 's death, and gave it to Branch Ma...  \n",
       "191057                                                                                                                                                                                                                                                                                                                                                                                           i have been an american express customer for years. i noticed about 8 months ago that my business management account waas not accumulating points i called last weekend i was told since //2017 no points have accumulated. i was told it would be worked on. i call today and see nothing has changed i get transferred all over the world with no regard for my time. this is stressful enough and i cant be the victim of system failure. i need points i am owed from // on on business management acct which i am owed and other for my trouble and how this happened explanation without calling and being trnsferred all over the world  \n",
       "\n",
       "[38294 rows x 2 columns]"
      ]
     },
     "execution_count": 113,
     "metadata": {},
     "output_type": "execute_result"
    }
   ],
   "source": [
    "q5"
   ]
  },
  {
   "cell_type": "code",
   "execution_count": 114,
   "metadata": {},
   "outputs": [],
   "source": [
    "#remove punctuation\n",
    "q5[\"Consumer complaint narrative\"] = q5[\"Consumer complaint narrative\"].str.replace(\"[^\\w\\s]\", \"\")"
   ]
  },
  {
   "cell_type": "code",
   "execution_count": 115,
   "metadata": {},
   "outputs": [],
   "source": [
    "#make it all lower case\n",
    "q5[\"Consumer complaint narrative\"] = q5[\"Consumer complaint narrative\"].apply(lambda x: x.lower())"
   ]
  },
  {
   "cell_type": "code",
   "execution_count": 116,
   "metadata": {},
   "outputs": [
    {
     "data": {
      "text/html": [
       "<div>\n",
       "<style scoped>\n",
       "    .dataframe tbody tr th:only-of-type {\n",
       "        vertical-align: middle;\n",
       "    }\n",
       "\n",
       "    .dataframe tbody tr th {\n",
       "        vertical-align: top;\n",
       "    }\n",
       "\n",
       "    .dataframe thead th {\n",
       "        text-align: right;\n",
       "    }\n",
       "</style>\n",
       "<table border=\"1\" class=\"dataframe\">\n",
       "  <thead>\n",
       "    <tr style=\"text-align: right;\">\n",
       "      <th></th>\n",
       "      <th>Product</th>\n",
       "      <th>Consumer complaint narrative</th>\n",
       "    </tr>\n",
       "  </thead>\n",
       "  <tbody>\n",
       "    <tr>\n",
       "      <th>1</th>\n",
       "      <td>Credit card or prepaid card</td>\n",
       "      <td>i initially in writing to chase bank in late  about a charge that was unauthorized on  from  in the amount of 79000 after many letters and complaints they still did not do anything yet in  they closed my original account and reissued a new account and sent me a letter indicating they moved this charge to fraud and it would be immediately credited however they have failed to do that and almost 8 months later it is still on my statement and im getting charged interest even after this i still use my card and pay for my charges and have never been late however i will not pay for a charge i didnt make and refuse and chase refuses to do anything even after many attempts and letters they write stating so i feel this is last step before i begin a case in     against them</td>\n",
       "    </tr>\n",
       "    <tr>\n",
       "      <th>4</th>\n",
       "      <td>Credit card or prepaid card</td>\n",
       "      <td>it has come to my attention the citi group is actively attempting to interfere with rights guaranteed by the constitution  2nd amendment  by manipulating or denying service to certain entities or transactions that are protected by the constitution i do not expect citi group or any other financial institution to be controlling the nation s activities through such unpatriotic and unamerican behavior i do expect citi group to tend to the business of their business and stay out of the business of social tyranny</td>\n",
       "    </tr>\n",
       "    <tr>\n",
       "      <th>6</th>\n",
       "      <td>Credit card or prepaid card</td>\n",
       "      <td>this banks new firearm policies run counter to laws and regulations passed by congress and they infringe and discriminate against an individuals second amendment rights such policies should not be endorsed by our federal government which instead should do business with companies that respect all of our constitutional rights including the second amendment our federal government should take all necessary steps to review and terminate its contract with citibank unless they rescind their guidelines</td>\n",
       "    </tr>\n",
       "  </tbody>\n",
       "</table>\n",
       "</div>"
      ],
      "text/plain": [
       "                       Product                                                                                                                                                                                                                                                                                                                                                                                                                                                                                                                                                                                                                                                                                                                                                                           Consumer complaint narrative\n",
       "1  Credit card or prepaid card  i initially in writing to chase bank in late  about a charge that was unauthorized on  from  in the amount of 79000 after many letters and complaints they still did not do anything yet in  they closed my original account and reissued a new account and sent me a letter indicating they moved this charge to fraud and it would be immediately credited however they have failed to do that and almost 8 months later it is still on my statement and im getting charged interest even after this i still use my card and pay for my charges and have never been late however i will not pay for a charge i didnt make and refuse and chase refuses to do anything even after many attempts and letters they write stating so i feel this is last step before i begin a case in     against them\n",
       "4  Credit card or prepaid card                                                                                                                                                                                                                                                                       it has come to my attention the citi group is actively attempting to interfere with rights guaranteed by the constitution  2nd amendment  by manipulating or denying service to certain entities or transactions that are protected by the constitution i do not expect citi group or any other financial institution to be controlling the nation s activities through such unpatriotic and unamerican behavior i do expect citi group to tend to the business of their business and stay out of the business of social tyranny\n",
       "6  Credit card or prepaid card                                                                                                                                                                                                                                                                                    this banks new firearm policies run counter to laws and regulations passed by congress and they infringe and discriminate against an individuals second amendment rights such policies should not be endorsed by our federal government which instead should do business with companies that respect all of our constitutional rights including the second amendment our federal government should take all necessary steps to review and terminate its contract with citibank unless they rescind their guidelines"
      ]
     },
     "execution_count": 116,
     "metadata": {},
     "output_type": "execute_result"
    }
   ],
   "source": [
    "q5.head(3)"
   ]
  },
  {
   "cell_type": "code",
   "execution_count": 117,
   "metadata": {},
   "outputs": [],
   "source": [
    "q5[\"Consumer complaint narrative\"] = q5[\"Consumer complaint narrative\"].apply(lambda x: [item for item in x.split() if item not in stop])"
   ]
  },
  {
   "cell_type": "code",
   "execution_count": 118,
   "metadata": {},
   "outputs": [
    {
     "data": {
      "text/html": [
       "<div>\n",
       "<style scoped>\n",
       "    .dataframe tbody tr th:only-of-type {\n",
       "        vertical-align: middle;\n",
       "    }\n",
       "\n",
       "    .dataframe tbody tr th {\n",
       "        vertical-align: top;\n",
       "    }\n",
       "\n",
       "    .dataframe thead th {\n",
       "        text-align: right;\n",
       "    }\n",
       "</style>\n",
       "<table border=\"1\" class=\"dataframe\">\n",
       "  <thead>\n",
       "    <tr style=\"text-align: right;\">\n",
       "      <th></th>\n",
       "      <th>Product</th>\n",
       "      <th>Consumer complaint narrative</th>\n",
       "    </tr>\n",
       "  </thead>\n",
       "  <tbody>\n",
       "    <tr>\n",
       "      <th>1</th>\n",
       "      <td>Credit card or prepaid card</td>\n",
       "      <td>[initially, writing, chase, bank, late, charge, unauthorized, amount, 79000, many, letters, complaints, still, anything, yet, closed, original, account, reissued, new, account, sent, letter, indicating, moved, charge, fraud, would, immediately, credited, however, failed, almost, 8, months, later, still, statement, im, getting, charged, interest, even, still, use, card, pay, charges, never, late, however, pay, charge, didnt, make, refuse, chase, refuses, anything, even, many, attempts, letters, write, stating, feel, last, step, begin, case]</td>\n",
       "    </tr>\n",
       "    <tr>\n",
       "      <th>4</th>\n",
       "      <td>Credit card or prepaid card</td>\n",
       "      <td>[come, attention, citi, group, actively, attempting, interfere, rights, guaranteed, constitution, 2nd, amendment, manipulating, denying, service, certain, entities, transactions, protected, constitution, expect, citi, group, financial, institution, controlling, nation, activities, unpatriotic, unamerican, behavior, expect, citi, group, tend, business, business, stay, business, social, tyranny]</td>\n",
       "    </tr>\n",
       "    <tr>\n",
       "      <th>6</th>\n",
       "      <td>Credit card or prepaid card</td>\n",
       "      <td>[banks, new, firearm, policies, run, counter, laws, regulations, passed, congress, infringe, discriminate, individuals, second, amendment, rights, policies, endorsed, federal, government, instead, business, companies, respect, constitutional, rights, including, second, amendment, federal, government, take, necessary, steps, review, terminate, contract, citibank, unless, rescind, guidelines]</td>\n",
       "    </tr>\n",
       "    <tr>\n",
       "      <th>8</th>\n",
       "      <td>Credit card or prepaid card</td>\n",
       "      <td>[use, walmart, store, card, keep, cancelled, sons, college, student, card, cancelled, non, use, made, small, purchase, paid, made, another, small, purchase, thought, paid, online, via, wlamartcom, seemed, work, didnt, receive, statment, probably, mail, courieri, apartment, style, mailbox, system, live, nevertheless, thought, good, credit, sesame, showed, past, due, reporti, town, time, immediately, searched, walmarts, payment, site, paid, account, full, also, noticed, 40000, account, reduced, mere, 11000, 900, short, due, payment, included, aprox, 6000, past, due, fees, appears, maxed, account, 30, 4000, purchase, credit, dropped, 47, score, points, excellent, fair, rating]</td>\n",
       "    </tr>\n",
       "    <tr>\n",
       "      <th>12</th>\n",
       "      <td>Credit card or prepaid card</td>\n",
       "      <td>[called, demnded, payments, due, 15, days, false, credit, limits, increases, promised, begining, end, harassing, phone, calls, help, supervisors, false, charges, account, hours, wasted, phone, evil, company, ever, encountered, sugar, coated, version]</td>\n",
       "    </tr>\n",
       "    <tr>\n",
       "      <th>...</th>\n",
       "      <td>...</td>\n",
       "      <td>...</td>\n",
       "    </tr>\n",
       "    <tr>\n",
       "      <th>191020</th>\n",
       "      <td>Credit card or prepaid card</td>\n",
       "      <td>[capital, one, world, mastercard, promotion, offering, 0, interest, 12, months, 2, transfer, fee, transferred, excess, 500000, capital, one, credit, card, current, statement, payment, due, date, reflect, agreement, instead, shows, interest, charge, 9000, minimum, payment, 14000, due, figures, error, spoke, three, capital, one, representatives, rep, id, numbers, including, supervisor, acknowledged, system, error, recording, promotional, offer, informed, capital, one, error, either, mail, email, made, telephone, call, representatives, told, correction, may, take, two, billing, cycles, correct, continue, make, 14000, minimum, payment, corrected, protested, entire, statement, error, 14000, minimum, payment, excessive, based, prior, experience, types, promotional, offers, fact, asking, pay, mistake, refused, offer, either, ...]</td>\n",
       "    </tr>\n",
       "    <tr>\n",
       "      <th>191026</th>\n",
       "      <td>Credit card or prepaid card</td>\n",
       "      <td>[credit, card, financed, refuses, remove, late, fees, interest, fees, charged, impression, account, balance, 000, made, payment, plan, representative, calls, paydays, make, payment, balance, paid, full, representative, stopped, calling, left, 2300, balance, late, fees, interest, trying, collect, 23000, reporting, late, credit, agencies, sent, letter, proof, payments, agreed, representative, refuse, help]</td>\n",
       "    </tr>\n",
       "    <tr>\n",
       "      <th>191029</th>\n",
       "      <td>Credit card or prepaid card</td>\n",
       "      <td>[overcharge, 25000, current, balance, owe, 48000, purchased, transactions, past, statement, upon, review, breakdown, purchases, amount, totaled, 44000, minus, refund, 9400, payment, credited, 15000, subtract, 24000, minus, 44000, remaining, due, 19000, submitted, another, payment, made, amount, 44000, transactions, totaled, 93000, minus, payment, 44000, creditsrefunds, 200, 1100, 2700, current, period, ending, current, balance, owing, 48000, 73000, please, review, adjust, account, immediately]</td>\n",
       "    </tr>\n",
       "    <tr>\n",
       "      <th>191030</th>\n",
       "      <td>Credit card or prepaid card</td>\n",
       "      <td>[involves, chase, advantage, checking, account, like, credit, card, used, checks, account, husband, name, contractually, person, spouse, authorized, user, husband, passed, away, went, chase, bank, death, certificate, refused, write, account, explanation, refusal, forced, change, account, name, time, death, balance, 360000, faithfully, paid, account, paid, account, unusable, since, chase, longer, honored, type, account, paid, 190000, interest, credit, card, till, 1000, interest, billed, read, article, bulletin, death, debt, stated, authorized, user, may, responsible, debt, balance, due, death, wrote, letter, chase, requesting, please, consider, paying, back, owed, time, husband, death, gave, branch, manager, one, response, letter, really, frustrating, may, year, old, widow, thats, excuse, ...]</td>\n",
       "    </tr>\n",
       "    <tr>\n",
       "      <th>191057</th>\n",
       "      <td>Credit card or prepaid card</td>\n",
       "      <td>[american, express, customer, years, noticed, 8, months, ago, business, management, account, waas, accumulating, points, called, last, weekend, told, since, 2017, points, accumulated, told, would, worked, call, today, see, nothing, changed, get, transferred, world, regard, time, stressful, enough, cant, victim, system, failure, need, points, owed, business, management, acct, owed, trouble, happened, explanation, without, calling, trnsferred, world]</td>\n",
       "    </tr>\n",
       "  </tbody>\n",
       "</table>\n",
       "<p>38294 rows × 2 columns</p>\n",
       "</div>"
      ],
      "text/plain": [
       "                            Product                                                                                                                                                                                                                                                                                                                                                                                                                                                                                                                                                                                                                                                                                                                                                                                                                                        Consumer complaint narrative\n",
       "1       Credit card or prepaid card                                                                                                                                                                                                                                                                                                   [initially, writing, chase, bank, late, charge, unauthorized, amount, 79000, many, letters, complaints, still, anything, yet, closed, original, account, reissued, new, account, sent, letter, indicating, moved, charge, fraud, would, immediately, credited, however, failed, almost, 8, months, later, still, statement, im, getting, charged, interest, even, still, use, card, pay, charges, never, late, however, pay, charge, didnt, make, refuse, chase, refuses, anything, even, many, attempts, letters, write, stating, feel, last, step, begin, case]\n",
       "4       Credit card or prepaid card                                                                                                                                                                                                                                                                                                                                                                                                                                                        [come, attention, citi, group, actively, attempting, interfere, rights, guaranteed, constitution, 2nd, amendment, manipulating, denying, service, certain, entities, transactions, protected, constitution, expect, citi, group, financial, institution, controlling, nation, activities, unpatriotic, unamerican, behavior, expect, citi, group, tend, business, business, stay, business, social, tyranny]\n",
       "6       Credit card or prepaid card                                                                                                                                                                                                                                                                                                                                                                                                                                                           [banks, new, firearm, policies, run, counter, laws, regulations, passed, congress, infringe, discriminate, individuals, second, amendment, rights, policies, endorsed, federal, government, instead, business, companies, respect, constitutional, rights, including, second, amendment, federal, government, take, necessary, steps, review, terminate, contract, citibank, unless, rescind, guidelines]\n",
       "8       Credit card or prepaid card                                                                                                                                                          [use, walmart, store, card, keep, cancelled, sons, college, student, card, cancelled, non, use, made, small, purchase, paid, made, another, small, purchase, thought, paid, online, via, wlamartcom, seemed, work, didnt, receive, statment, probably, mail, courieri, apartment, style, mailbox, system, live, nevertheless, thought, good, credit, sesame, showed, past, due, reporti, town, time, immediately, searched, walmarts, payment, site, paid, account, full, also, noticed, 40000, account, reduced, mere, 11000, 900, short, due, payment, included, aprox, 6000, past, due, fees, appears, maxed, account, 30, 4000, purchase, credit, dropped, 47, score, points, excellent, fair, rating]\n",
       "12      Credit card or prepaid card                                                                                                                                                                                                                                                                                                                                                                                                                                                                                                                                                                                                          [called, demnded, payments, due, 15, days, false, credit, limits, increases, promised, begining, end, harassing, phone, calls, help, supervisors, false, charges, account, hours, wasted, phone, evil, company, ever, encountered, sugar, coated, version]\n",
       "...                             ...                                                                                                                                                                                                                                                                                                                                                                                                                                                                                                                                                                                                                                                                                                                                                                                                                                                                 ...\n",
       "191020  Credit card or prepaid card  [capital, one, world, mastercard, promotion, offering, 0, interest, 12, months, 2, transfer, fee, transferred, excess, 500000, capital, one, credit, card, current, statement, payment, due, date, reflect, agreement, instead, shows, interest, charge, 9000, minimum, payment, 14000, due, figures, error, spoke, three, capital, one, representatives, rep, id, numbers, including, supervisor, acknowledged, system, error, recording, promotional, offer, informed, capital, one, error, either, mail, email, made, telephone, call, representatives, told, correction, may, take, two, billing, cycles, correct, continue, make, 14000, minimum, payment, corrected, protested, entire, statement, error, 14000, minimum, payment, excessive, based, prior, experience, types, promotional, offers, fact, asking, pay, mistake, refused, offer, either, ...]\n",
       "191026  Credit card or prepaid card                                                                                                                                                                                                                                                                                                                                                                                                                                             [credit, card, financed, refuses, remove, late, fees, interest, fees, charged, impression, account, balance, 000, made, payment, plan, representative, calls, paydays, make, payment, balance, paid, full, representative, stopped, calling, left, 2300, balance, late, fees, interest, trying, collect, 23000, reporting, late, credit, agencies, sent, letter, proof, payments, agreed, representative, refuse, help]\n",
       "191029  Credit card or prepaid card                                                                                                                                                                                                                                                                                                                                                  [overcharge, 25000, current, balance, owe, 48000, purchased, transactions, past, statement, upon, review, breakdown, purchases, amount, totaled, 44000, minus, refund, 9400, payment, credited, 15000, subtract, 24000, minus, 44000, remaining, due, 19000, submitted, another, payment, made, amount, 44000, transactions, totaled, 93000, minus, payment, 44000, creditsrefunds, 200, 1100, 2700, current, period, ending, current, balance, owing, 48000, 73000, please, review, adjust, account, immediately]\n",
       "191030  Credit card or prepaid card                                 [involves, chase, advantage, checking, account, like, credit, card, used, checks, account, husband, name, contractually, person, spouse, authorized, user, husband, passed, away, went, chase, bank, death, certificate, refused, write, account, explanation, refusal, forced, change, account, name, time, death, balance, 360000, faithfully, paid, account, paid, account, unusable, since, chase, longer, honored, type, account, paid, 190000, interest, credit, card, till, 1000, interest, billed, read, article, bulletin, death, debt, stated, authorized, user, may, responsible, debt, balance, due, death, wrote, letter, chase, requesting, please, consider, paying, back, owed, time, husband, death, gave, branch, manager, one, response, letter, really, frustrating, may, year, old, widow, thats, excuse, ...]\n",
       "191057  Credit card or prepaid card                                                                                                                                                                                                                                                                                                                                                                                                [american, express, customer, years, noticed, 8, months, ago, business, management, account, waas, accumulating, points, called, last, weekend, told, since, 2017, points, accumulated, told, would, worked, call, today, see, nothing, changed, get, transferred, world, regard, time, stressful, enough, cant, victim, system, failure, need, points, owed, business, management, acct, owed, trouble, happened, explanation, without, calling, trnsferred, world]\n",
       "\n",
       "[38294 rows x 2 columns]"
      ]
     },
     "execution_count": 118,
     "metadata": {},
     "output_type": "execute_result"
    }
   ],
   "source": [
    "q5"
   ]
  },
  {
   "cell_type": "code",
   "execution_count": null,
   "metadata": {},
   "outputs": [],
   "source": []
  },
  {
   "cell_type": "code",
   "execution_count": 119,
   "metadata": {},
   "outputs": [],
   "source": [
    "from wordcloud import WordCloud"
   ]
  },
  {
   "cell_type": "code",
   "execution_count": 120,
   "metadata": {},
   "outputs": [],
   "source": [
    "text = q5[\"Consumer complaint narrative\"].values "
   ]
  },
  {
   "cell_type": "code",
   "execution_count": 121,
   "metadata": {},
   "outputs": [
    {
     "data": {
      "text/plain": [
       "array([list(['initially', 'writing', 'chase', 'bank', 'late', 'charge', 'unauthorized', 'amount', '79000', 'many', 'letters', 'complaints', 'still', 'anything', 'yet', 'closed', 'original', 'account', 'reissued', 'new', 'account', 'sent', 'letter', 'indicating', 'moved', 'charge', 'fraud', 'would', 'immediately', 'credited', 'however', 'failed', 'almost', '8', 'months', 'later', 'still', 'statement', 'im', 'getting', 'charged', 'interest', 'even', 'still', 'use', 'card', 'pay', 'charges', 'never', 'late', 'however', 'pay', 'charge', 'didnt', 'make', 'refuse', 'chase', 'refuses', 'anything', 'even', 'many', 'attempts', 'letters', 'write', 'stating', 'feel', 'last', 'step', 'begin', 'case']),\n",
       "       list(['come', 'attention', 'citi', 'group', 'actively', 'attempting', 'interfere', 'rights', 'guaranteed', 'constitution', '2nd', 'amendment', 'manipulating', 'denying', 'service', 'certain', 'entities', 'transactions', 'protected', 'constitution', 'expect', 'citi', 'group', 'financial', 'institution', 'controlling', 'nation', 'activities', 'unpatriotic', 'unamerican', 'behavior', 'expect', 'citi', 'group', 'tend', 'business', 'business', 'stay', 'business', 'social', 'tyranny']),\n",
       "       list(['banks', 'new', 'firearm', 'policies', 'run', 'counter', 'laws', 'regulations', 'passed', 'congress', 'infringe', 'discriminate', 'individuals', 'second', 'amendment', 'rights', 'policies', 'endorsed', 'federal', 'government', 'instead', 'business', 'companies', 'respect', 'constitutional', 'rights', 'including', 'second', 'amendment', 'federal', 'government', 'take', 'necessary', 'steps', 'review', 'terminate', 'contract', 'citibank', 'unless', 'rescind', 'guidelines']),\n",
       "       ...,\n",
       "       list(['overcharge', '25000', 'current', 'balance', 'owe', '48000', 'purchased', 'transactions', 'past', 'statement', 'upon', 'review', 'breakdown', 'purchases', 'amount', 'totaled', '44000', 'minus', 'refund', '9400', 'payment', 'credited', '15000', 'subtract', '24000', 'minus', '44000', 'remaining', 'due', '19000', 'submitted', 'another', 'payment', 'made', 'amount', '44000', 'transactions', 'totaled', '93000', 'minus', 'payment', '44000', 'creditsrefunds', '200', '1100', '2700', 'current', 'period', 'ending', 'current', 'balance', 'owing', '48000', '73000', 'please', 'review', 'adjust', 'account', 'immediately']),\n",
       "       list(['involves', 'chase', 'advantage', 'checking', 'account', 'like', 'credit', 'card', 'used', 'checks', 'account', 'husband', 'name', 'contractually', 'person', 'spouse', 'authorized', 'user', 'husband', 'passed', 'away', 'went', 'chase', 'bank', 'death', 'certificate', 'refused', 'write', 'account', 'explanation', 'refusal', 'forced', 'change', 'account', 'name', 'time', 'death', 'balance', '360000', 'faithfully', 'paid', 'account', 'paid', 'account', 'unusable', 'since', 'chase', 'longer', 'honored', 'type', 'account', 'paid', '190000', 'interest', 'credit', 'card', 'till', '1000', 'interest', 'billed', 'read', 'article', 'bulletin', 'death', 'debt', 'stated', 'authorized', 'user', 'may', 'responsible', 'debt', 'balance', 'due', 'death', 'wrote', 'letter', 'chase', 'requesting', 'please', 'consider', 'paying', 'back', 'owed', 'time', 'husband', 'death', 'gave', 'branch', 'manager', 'one', 'response', 'letter', 'really', 'frustrating', 'may', 'year', 'old', 'widow', 'thats', 'excuse', 'completely', 'ignore', 'request', 'consulted', 'attorney', 'one', 'gave', 'information', 'website', 'forward', 'letter', 'wrote', 'chase', 'lots', 'detail', 'hope', 'information', 'helpful', 'start', 'process']),\n",
       "       list(['american', 'express', 'customer', 'years', 'noticed', '8', 'months', 'ago', 'business', 'management', 'account', 'waas', 'accumulating', 'points', 'called', 'last', 'weekend', 'told', 'since', '2017', 'points', 'accumulated', 'told', 'would', 'worked', 'call', 'today', 'see', 'nothing', 'changed', 'get', 'transferred', 'world', 'regard', 'time', 'stressful', 'enough', 'cant', 'victim', 'system', 'failure', 'need', 'points', 'owed', 'business', 'management', 'acct', 'owed', 'trouble', 'happened', 'explanation', 'without', 'calling', 'trnsferred', 'world'])],\n",
       "      dtype=object)"
      ]
     },
     "execution_count": 121,
     "metadata": {},
     "output_type": "execute_result"
    }
   ],
   "source": [
    "text"
   ]
  },
  {
   "cell_type": "code",
   "execution_count": 122,
   "metadata": {},
   "outputs": [
    {
     "data": {
      "image/png": "[encoded data removed]",
      "text/plain": [
       "<Figure size 720x360 with 1 Axes>"
      ]
     },
     "metadata": {},
     "output_type": "display_data"
    }
   ],
   "source": [
    "wordcloud = WordCloud().generate(str(text))\n",
    "\n",
    "plt.figure(figsize=(10,5))\n",
    "plt.imshow(wordcloud)\n",
    "plt.axis(\"off\")\n",
    "plt.show()"
   ]
  },
  {
   "cell_type": "code",
   "execution_count": null,
   "metadata": {},
   "outputs": [],
   "source": []
  },
  {
   "cell_type": "code",
   "execution_count": null,
   "metadata": {},
   "outputs": [],
   "source": []
  }
 ],
 "metadata": {
  "kernelspec": {
   "display_name": "Python 3",
   "language": "python",
   "name": "python3"
  },
  "language_info": {
   "codemirror_mode": {
    "name": "ipython",
    "version": 3
   },
   "file_extension": ".py",
   "mimetype": "text/x-python",
   "name": "python",
   "nbconvert_exporter": "python",
   "pygments_lexer": "ipython3",
   "version": "3.8.8"
  }
 },
 "nbformat": 4,
 "nbformat_minor": 4
}
